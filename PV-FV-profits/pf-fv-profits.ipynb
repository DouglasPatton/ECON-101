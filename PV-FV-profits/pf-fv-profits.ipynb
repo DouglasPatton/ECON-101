{
 "cells": [
  {
   "cell_type": "code",
   "execution_count": 2,
   "metadata": {},
   "outputs": [],
   "source": [
    "# Run some setup code for this notebook.\n",
    "\n",
    "import random\n",
    "import numpy as np\n",
    "import matplotlib.pyplot as plt\n",
    "\n",
    "\n",
    "\n",
    "%matplotlib inline\n",
    "plt.rcParams['figure.figsize'] = (15.0, 12.0) # set default size of plots"
   ]
  },
  {
   "cell_type": "code",
   "execution_count": 48,
   "metadata": {},
   "outputs": [
    {
     "data": {
      "text/plain": [
       "<matplotlib.collections.PathCollection at 0x7ff5e32272e8>"
      ]
     },
     "execution_count": 48,
     "metadata": {},
     "output_type": "execute_result"
    },
    {
     "data": {
      "image/png": "[encoded data removed]",
      "text/plain": [
       "<Figure size 432x288 with 1 Axes>"
      ]
     },
     "metadata": {
      "needs_background": "light"
     },
     "output_type": "display_data"
    }
   ],
   "source": [
    "ymax=2#years start at zero and go to ymax. there will be ymax+1 years in the list\n",
    "ycount=int(ymax+1)\n",
    "ylist=np.linspace(0,ymax,ycount).reshape(ycount,1)\n",
    "costlist=np.zeros([ycount,1])\n",
    "revlist=np.ones([ycount,1])*55\n",
    "costlist[0,]=100\n",
    "revlist[0,]=0\n",
    "full_list=np.concatenate([revlist, -1*costlist], axis=1)\n",
    "\n",
    "def FVProfits(flow=full_list,r=.05,T=ymax):\n",
    "    compoundvec=(1+r)**(np.ones(ycount,)*T-np.arange(ycount))\n",
    "    return np.sum(compoundvec.reshape(ycount,1)*flow)\n",
    "rates=np.linspace(0,.1,11)\n",
    "profitsfv=[FVProfits(full_list,x,ymax) for x in rates]\n",
    "plt.scatter(rates,profitsfv)\n",
    "\n",
    "\n"
   ]
  }
 ],
 "metadata": {
  "kernelspec": {
   "display_name": "Python 3",
   "language": "python",
   "name": "python3"
  },
  "language_info": {
   "codemirror_mode": {
    "name": "ipython",
    "version": 3
   },
   "file_extension": ".py",
   "mimetype": "text/x-python",
   "name": "python",
   "nbconvert_exporter": "python",
   "pygments_lexer": "ipython3",
   "version": "3.7.1"
  }
 },
 "nbformat": 4,
 "nbformat_minor": 2
}
