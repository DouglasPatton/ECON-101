{
 "cells": [
  {
   "cell_type": "code",
   "execution_count": 7,
   "metadata": {},
   "outputs": [
    {
     "data": {
      "text/html": [
       "\n",
       "    <div class=\"bk-root\">\n",
       "        <a href=\"https://bokeh.pydata.org\" target=\"_blank\" class=\"bk-logo bk-logo-small bk-logo-notebook\"></a>\n",
       "        <span id=\"1212\">Loading BokehJS ...</span>\n",
       "    </div>"
      ]
     },
     "metadata": {},
     "output_type": "display_data"
    },
    {
     "data": {
      "application/javascript": [
       "\n",
       "(function(root) {\n",
       "  function now() {\n",
       "    return new Date();\n",
       "  }\n",
       "\n",
       "  var force = true;\n",
       "\n",
       "  if (typeof (root._bokeh_onload_callbacks) === \"undefined\" || force === true) {\n",
       "    root._bokeh_onload_callbacks = [];\n",
       "    root._bokeh_is_loading = undefined;\n",
       "  }\n",
       "\n",
       "  var JS_MIME_TYPE = 'application/javascript';\n",
       "  var HTML_MIME_TYPE = 'text/html';\n",
       "  var EXEC_MIME_TYPE = 'application/vnd.bokehjs_exec.v0+json';\n",
       "  var CLASS_NAME = 'output_bokeh rendered_html';\n",
       "\n",
       "  /**\n",
       "   * Render data to the DOM node\n",
       "   */\n",
       "  function render(props, node) {\n",
       "    var script = document.createElement(\"script\");\n",
       "    node.appendChild(script);\n",
       "  }\n",
       "\n",
       "  /**\n",
       "   * Handle when an output is cleared or removed\n",
       "   */\n",
       "  function handleClearOutput(event, handle) {\n",
       "    var cell = handle.cell;\n",
       "\n",
       "    var id = cell.output_area._bokeh_element_id;\n",
       "    var server_id = cell.output_area._bokeh_server_id;\n",
       "    // Clean up Bokeh references\n",
       "    if (id != null && id in Bokeh.index) {\n",
       "      Bokeh.index[id].model.document.clear();\n",
       "      delete Bokeh.index[id];\n",
       "    }\n",
       "\n",
       "    if (server_id !== undefined) {\n",
       "      // Clean up Bokeh references\n",
       "      var cmd = \"from bokeh.io.state import curstate; print(curstate().uuid_to_server['\" + server_id + \"'].get_sessions()[0].document.roots[0]._id)\";\n",
       "      cell.notebook.kernel.execute(cmd, {\n",
       "        iopub: {\n",
       "          output: function(msg) {\n",
       "            var id = msg.content.text.trim();\n",
       "            if (id in Bokeh.index) {\n",
       "              Bokeh.index[id].model.document.clear();\n",
       "              delete Bokeh.index[id];\n",
       "            }\n",
       "          }\n",
       "        }\n",
       "      });\n",
       "      // Destroy server and session\n",
       "      var cmd = \"import bokeh.io.notebook as ion; ion.destroy_server('\" + server_id + \"')\";\n",
       "      cell.notebook.kernel.execute(cmd);\n",
       "    }\n",
       "  }\n",
       "\n",
       "  /**\n",
       "   * Handle when a new output is added\n",
       "   */\n",
       "  function handleAddOutput(event, handle) {\n",
       "    var output_area = handle.output_area;\n",
       "    var output = handle.output;\n",
       "\n",
       "    // limit handleAddOutput to display_data with EXEC_MIME_TYPE content only\n",
       "    if ((output.output_type != \"display_data\") || (!output.data.hasOwnProperty(EXEC_MIME_TYPE))) {\n",
       "      return\n",
       "    }\n",
       "\n",
       "    var toinsert = output_area.element.find(\".\" + CLASS_NAME.split(' ')[0]);\n",
       "\n",
       "    if (output.metadata[EXEC_MIME_TYPE][\"id\"] !== undefined) {\n",
       "      toinsert[toinsert.length - 1].firstChild.textContent = output.data[JS_MIME_TYPE];\n",
       "      // store reference to embed id on output_area\n",
       "      output_area._bokeh_element_id = output.metadata[EXEC_MIME_TYPE][\"id\"];\n",
       "    }\n",
       "    if (output.metadata[EXEC_MIME_TYPE][\"server_id\"] !== undefined) {\n",
       "      var bk_div = document.createElement(\"div\");\n",
       "      bk_div.innerHTML = output.data[HTML_MIME_TYPE];\n",
       "      var script_attrs = bk_div.children[0].attributes;\n",
       "      for (var i = 0; i < script_attrs.length; i++) {\n",
       "        toinsert[toinsert.length - 1].firstChild.setAttribute(script_attrs[i].name, script_attrs[i].value);\n",
       "      }\n",
       "      // store reference to server id on output_area\n",
       "      output_area._bokeh_server_id = output.metadata[EXEC_MIME_TYPE][\"server_id\"];\n",
       "    }\n",
       "  }\n",
       "\n",
       "  function register_renderer(events, OutputArea) {\n",
       "\n",
       "    function append_mime(data, metadata, element) {\n",
       "      // create a DOM node to render to\n",
       "      var toinsert = this.create_output_subarea(\n",
       "        metadata,\n",
       "        CLASS_NAME,\n",
       "        EXEC_MIME_TYPE\n",
       "      );\n",
       "      this.keyboard_manager.register_events(toinsert);\n",
       "      // Render to node\n",
       "      var props = {data: data, metadata: metadata[EXEC_MIME_TYPE]};\n",
       "      render(props, toinsert[toinsert.length - 1]);\n",
       "      element.append(toinsert);\n",
       "      return toinsert\n",
       "    }\n",
       "\n",
       "    /* Handle when an output is cleared or removed */\n",
       "    events.on('clear_output.CodeCell', handleClearOutput);\n",
       "    events.on('delete.Cell', handleClearOutput);\n",
       "\n",
       "    /* Handle when a new output is added */\n",
       "    events.on('output_added.OutputArea', handleAddOutput);\n",
       "\n",
       "    /**\n",
       "     * Register the mime type and append_mime function with output_area\n",
       "     */\n",
       "    OutputArea.prototype.register_mime_type(EXEC_MIME_TYPE, append_mime, {\n",
       "      /* Is output safe? */\n",
       "      safe: true,\n",
       "      /* Index of renderer in `output_area.display_order` */\n",
       "      index: 0\n",
       "    });\n",
       "  }\n",
       "\n",
       "  // register the mime type if in Jupyter Notebook environment and previously unregistered\n",
       "  if (root.Jupyter !== undefined) {\n",
       "    var events = require('base/js/events');\n",
       "    var OutputArea = require('notebook/js/outputarea').OutputArea;\n",
       "\n",
       "    if (OutputArea.prototype.mime_types().indexOf(EXEC_MIME_TYPE) == -1) {\n",
       "      register_renderer(events, OutputArea);\n",
       "    }\n",
       "  }\n",
       "\n",
       "  \n",
       "  if (typeof (root._bokeh_timeout) === \"undefined\" || force === true) {\n",
       "    root._bokeh_timeout = Date.now() + 5000;\n",
       "    root._bokeh_failed_load = false;\n",
       "  }\n",
       "\n",
       "  var NB_LOAD_WARNING = {'data': {'text/html':\n",
       "     \"<div style='background-color: #fdd'>\\n\"+\n",
       "     \"<p>\\n\"+\n",
       "     \"BokehJS does not appear to have successfully loaded. If loading BokehJS from CDN, this \\n\"+\n",
       "     \"may be due to a slow or bad network connection. Possible fixes:\\n\"+\n",
       "     \"</p>\\n\"+\n",
       "     \"<ul>\\n\"+\n",
       "     \"<li>re-rerun `output_notebook()` to attempt to load from CDN again, or</li>\\n\"+\n",
       "     \"<li>use INLINE resources instead, as so:</li>\\n\"+\n",
       "     \"</ul>\\n\"+\n",
       "     \"<code>\\n\"+\n",
       "     \"from bokeh.resources import INLINE\\n\"+\n",
       "     \"output_notebook(resources=INLINE)\\n\"+\n",
       "     \"</code>\\n\"+\n",
       "     \"</div>\"}};\n",
       "\n",
       "  function display_loaded() {\n",
       "    var el = document.getElementById(\"1212\");\n",
       "    if (el != null) {\n",
       "      el.textContent = \"BokehJS is loading...\";\n",
       "    }\n",
       "    if (root.Bokeh !== undefined) {\n",
       "      if (el != null) {\n",
       "        el.textContent = \"BokehJS \" + root.Bokeh.version + \" successfully loaded.\";\n",
       "      }\n",
       "    } else if (Date.now() < root._bokeh_timeout) {\n",
       "      setTimeout(display_loaded, 100)\n",
       "    }\n",
       "  }\n",
       "\n",
       "\n",
       "  function run_callbacks() {\n",
       "    try {\n",
       "      root._bokeh_onload_callbacks.forEach(function(callback) { callback() });\n",
       "    }\n",
       "    finally {\n",
       "      delete root._bokeh_onload_callbacks\n",
       "    }\n",
       "    console.info(\"Bokeh: all callbacks have finished\");\n",
       "  }\n",
       "\n",
       "  function load_libs(js_urls, callback) {\n",
       "    root._bokeh_onload_callbacks.push(callback);\n",
       "    if (root._bokeh_is_loading > 0) {\n",
       "      console.log(\"Bokeh: BokehJS is being loaded, scheduling callback at\", now());\n",
       "      return null;\n",
       "    }\n",
       "    if (js_urls == null || js_urls.length === 0) {\n",
       "      run_callbacks();\n",
       "      return null;\n",
       "    }\n",
       "    console.log(\"Bokeh: BokehJS not loaded, scheduling load and callback at\", now());\n",
       "    root._bokeh_is_loading = js_urls.length;\n",
       "    for (var i = 0; i < js_urls.length; i++) {\n",
       "      var url = js_urls[i];\n",
       "      var s = document.createElement('script');\n",
       "      s.src = url;\n",
       "      s.async = false;\n",
       "      s.onreadystatechange = s.onload = function() {\n",
       "        root._bokeh_is_loading--;\n",
       "        if (root._bokeh_is_loading === 0) {\n",
       "          console.log(\"Bokeh: all BokehJS libraries loaded\");\n",
       "          run_callbacks()\n",
       "        }\n",
       "      };\n",
       "      s.onerror = function() {\n",
       "        console.warn(\"failed to load library \" + url);\n",
       "      };\n",
       "      console.log(\"Bokeh: injecting script tag for BokehJS library: \", url);\n",
       "      document.getElementsByTagName(\"head\")[0].appendChild(s);\n",
       "    }\n",
       "  };var element = document.getElementById(\"1212\");\n",
       "  if (element == null) {\n",
       "    console.log(\"Bokeh: ERROR: autoload.js configured with elementid '1212' but no matching script tag was found. \")\n",
       "    return false;\n",
       "  }\n",
       "\n",
       "  var js_urls = [\"https://cdn.pydata.org/bokeh/release/bokeh-1.0.2.min.js\", \"https://cdn.pydata.org/bokeh/release/bokeh-widgets-1.0.2.min.js\", \"https://cdn.pydata.org/bokeh/release/bokeh-tables-1.0.2.min.js\", \"https://cdn.pydata.org/bokeh/release/bokeh-gl-1.0.2.min.js\"];\n",
       "\n",
       "  var inline_js = [\n",
       "    function(Bokeh) {\n",
       "      Bokeh.set_log_level(\"info\");\n",
       "    },\n",
       "    \n",
       "    function(Bokeh) {\n",
       "      \n",
       "    },\n",
       "    function(Bokeh) {\n",
       "      console.log(\"Bokeh: injecting CSS: https://cdn.pydata.org/bokeh/release/bokeh-1.0.2.min.css\");\n",
       "      Bokeh.embed.inject_css(\"https://cdn.pydata.org/bokeh/release/bokeh-1.0.2.min.css\");\n",
       "      console.log(\"Bokeh: injecting CSS: https://cdn.pydata.org/bokeh/release/bokeh-widgets-1.0.2.min.css\");\n",
       "      Bokeh.embed.inject_css(\"https://cdn.pydata.org/bokeh/release/bokeh-widgets-1.0.2.min.css\");\n",
       "      console.log(\"Bokeh: injecting CSS: https://cdn.pydata.org/bokeh/release/bokeh-tables-1.0.2.min.css\");\n",
       "      Bokeh.embed.inject_css(\"https://cdn.pydata.org/bokeh/release/bokeh-tables-1.0.2.min.css\");\n",
       "    }\n",
       "  ];\n",
       "\n",
       "  function run_inline_js() {\n",
       "    \n",
       "    if ((root.Bokeh !== undefined) || (force === true)) {\n",
       "      for (var i = 0; i < inline_js.length; i++) {\n",
       "        inline_js[i].call(root, root.Bokeh);\n",
       "      }if (force === true) {\n",
       "        display_loaded();\n",
       "      }} else if (Date.now() < root._bokeh_timeout) {\n",
       "      setTimeout(run_inline_js, 100);\n",
       "    } else if (!root._bokeh_failed_load) {\n",
       "      console.log(\"Bokeh: BokehJS failed to load within specified timeout.\");\n",
       "      root._bokeh_failed_load = true;\n",
       "    } else if (force !== true) {\n",
       "      var cell = $(document.getElementById(\"1212\")).parents('.cell').data().cell;\n",
       "      cell.output_area.append_execute_result(NB_LOAD_WARNING)\n",
       "    }\n",
       "\n",
       "  }\n",
       "\n",
       "  if (root._bokeh_is_loading === 0) {\n",
       "    console.log(\"Bokeh: BokehJS loaded, going straight to plotting\");\n",
       "    run_inline_js();\n",
       "  } else {\n",
       "    load_libs(js_urls, function() {\n",
       "      console.log(\"Bokeh: BokehJS plotting callback run at\", now());\n",
       "      run_inline_js();\n",
       "    });\n",
       "  }\n",
       "}(window));"
      ],
      "application/vnd.bokehjs_load.v0+json": "\n(function(root) {\n  function now() {\n    return new Date();\n  }\n\n  var force = true;\n\n  if (typeof (root._bokeh_onload_callbacks) === \"undefined\" || force === true) {\n    root._bokeh_onload_callbacks = [];\n    root._bokeh_is_loading = undefined;\n  }\n\n  \n\n  \n  if (typeof (root._bokeh_timeout) === \"undefined\" || force === true) {\n    root._bokeh_timeout = Date.now() + 5000;\n    root._bokeh_failed_load = false;\n  }\n\n  var NB_LOAD_WARNING = {'data': {'text/html':\n     \"<div style='background-color: #fdd'>\\n\"+\n     \"<p>\\n\"+\n     \"BokehJS does not appear to have successfully loaded. If loading BokehJS from CDN, this \\n\"+\n     \"may be due to a slow or bad network connection. Possible fixes:\\n\"+\n     \"</p>\\n\"+\n     \"<ul>\\n\"+\n     \"<li>re-rerun `output_notebook()` to attempt to load from CDN again, or</li>\\n\"+\n     \"<li>use INLINE resources instead, as so:</li>\\n\"+\n     \"</ul>\\n\"+\n     \"<code>\\n\"+\n     \"from bokeh.resources import INLINE\\n\"+\n     \"output_notebook(resources=INLINE)\\n\"+\n     \"</code>\\n\"+\n     \"</div>\"}};\n\n  function display_loaded() {\n    var el = document.getElementById(\"1212\");\n    if (el != null) {\n      el.textContent = \"BokehJS is loading...\";\n    }\n    if (root.Bokeh !== undefined) {\n      if (el != null) {\n        el.textContent = \"BokehJS \" + root.Bokeh.version + \" successfully loaded.\";\n      }\n    } else if (Date.now() < root._bokeh_timeout) {\n      setTimeout(display_loaded, 100)\n    }\n  }\n\n\n  function run_callbacks() {\n    try {\n      root._bokeh_onload_callbacks.forEach(function(callback) { callback() });\n    }\n    finally {\n      delete root._bokeh_onload_callbacks\n    }\n    console.info(\"Bokeh: all callbacks have finished\");\n  }\n\n  function load_libs(js_urls, callback) {\n    root._bokeh_onload_callbacks.push(callback);\n    if (root._bokeh_is_loading > 0) {\n      console.log(\"Bokeh: BokehJS is being loaded, scheduling callback at\", now());\n      return null;\n    }\n    if (js_urls == null || js_urls.length === 0) {\n      run_callbacks();\n      return null;\n    }\n    console.log(\"Bokeh: BokehJS not loaded, scheduling load and callback at\", now());\n    root._bokeh_is_loading = js_urls.length;\n    for (var i = 0; i < js_urls.length; i++) {\n      var url = js_urls[i];\n      var s = document.createElement('script');\n      s.src = url;\n      s.async = false;\n      s.onreadystatechange = s.onload = function() {\n        root._bokeh_is_loading--;\n        if (root._bokeh_is_loading === 0) {\n          console.log(\"Bokeh: all BokehJS libraries loaded\");\n          run_callbacks()\n        }\n      };\n      s.onerror = function() {\n        console.warn(\"failed to load library \" + url);\n      };\n      console.log(\"Bokeh: injecting script tag for BokehJS library: \", url);\n      document.getElementsByTagName(\"head\")[0].appendChild(s);\n    }\n  };var element = document.getElementById(\"1212\");\n  if (element == null) {\n    console.log(\"Bokeh: ERROR: autoload.js configured with elementid '1212' but no matching script tag was found. \")\n    return false;\n  }\n\n  var js_urls = [\"https://cdn.pydata.org/bokeh/release/bokeh-1.0.2.min.js\", \"https://cdn.pydata.org/bokeh/release/bokeh-widgets-1.0.2.min.js\", \"https://cdn.pydata.org/bokeh/release/bokeh-tables-1.0.2.min.js\", \"https://cdn.pydata.org/bokeh/release/bokeh-gl-1.0.2.min.js\"];\n\n  var inline_js = [\n    function(Bokeh) {\n      Bokeh.set_log_level(\"info\");\n    },\n    \n    function(Bokeh) {\n      \n    },\n    function(Bokeh) {\n      console.log(\"Bokeh: injecting CSS: https://cdn.pydata.org/bokeh/release/bokeh-1.0.2.min.css\");\n      Bokeh.embed.inject_css(\"https://cdn.pydata.org/bokeh/release/bokeh-1.0.2.min.css\");\n      console.log(\"Bokeh: injecting CSS: https://cdn.pydata.org/bokeh/release/bokeh-widgets-1.0.2.min.css\");\n      Bokeh.embed.inject_css(\"https://cdn.pydata.org/bokeh/release/bokeh-widgets-1.0.2.min.css\");\n      console.log(\"Bokeh: injecting CSS: https://cdn.pydata.org/bokeh/release/bokeh-tables-1.0.2.min.css\");\n      Bokeh.embed.inject_css(\"https://cdn.pydata.org/bokeh/release/bokeh-tables-1.0.2.min.css\");\n    }\n  ];\n\n  function run_inline_js() {\n    \n    if ((root.Bokeh !== undefined) || (force === true)) {\n      for (var i = 0; i < inline_js.length; i++) {\n        inline_js[i].call(root, root.Bokeh);\n      }if (force === true) {\n        display_loaded();\n      }} else if (Date.now() < root._bokeh_timeout) {\n      setTimeout(run_inline_js, 100);\n    } else if (!root._bokeh_failed_load) {\n      console.log(\"Bokeh: BokehJS failed to load within specified timeout.\");\n      root._bokeh_failed_load = true;\n    } else if (force !== true) {\n      var cell = $(document.getElementById(\"1212\")).parents('.cell').data().cell;\n      cell.output_area.append_execute_result(NB_LOAD_WARNING)\n    }\n\n  }\n\n  if (root._bokeh_is_loading === 0) {\n    console.log(\"Bokeh: BokehJS loaded, going straight to plotting\");\n    run_inline_js();\n  } else {\n    load_libs(js_urls, function() {\n      console.log(\"Bokeh: BokehJS plotting callback run at\", now());\n      run_inline_js();\n    });\n  }\n}(window));"
     },
     "metadata": {},
     "output_type": "display_data"
    }
   ],
   "source": [
    "\n",
    "\n",
    "import numpy as np\n",
    "import pandas as pd\n",
    "import matplotlib.pyplot as plt\n",
    "from bokeh.io import push_notebook, show, output_notebook; \n",
    "from bokeh.plotting import figure; \n",
    "from bokeh.layouts import gridplot\n",
    "output_notebook()\n",
    "\n",
    "\n",
    "%matplotlib inline\n",
    "plt.rcParams['figure.figsize'] = (20.0, 20.0) # set default size of plots\n",
    "plt.rcParams['image.interpolation'] = 'nearest'\n",
    "plt.rcParams['image.cmap'] = 'gray'"
   ]
  },
  {
   "cell_type": "code",
   "execution_count": 9,
   "metadata": {
    "scrolled": true
   },
   "outputs": [
    {
     "name": "stdout",
     "output_type": "stream",
     "text": [
      "[0.  3.  5.  6.  6.5 6.7]\n",
      "6\n"
     ]
    },
    {
     "data": {
      "text/html": [
       "\n",
       "\n",
       "\n",
       "\n",
       "\n",
       "\n",
       "  <div class=\"bk-root\" id=\"9da88960-cdf9-468e-805c-1afe0ba7a604\"></div>\n"
      ]
     },
     "metadata": {},
     "output_type": "display_data"
    },
    {
     "data": {
      "application/javascript": [
       "(function(root) {\n",
       "  function embed_document(root) {\n",
       "    \n",
       "  var docs_json = {\"2d791c4b-5c3a-4e54-8e4d-2051ea8f2703\":{\"roots\":{\"references\":[{\"attributes\":{\"children\":[{\"id\":\"2011\",\"type\":\"ToolbarBox\"},{\"id\":\"2009\",\"type\":\"Column\"}]},\"id\":\"2012\",\"type\":\"Column\"},{\"attributes\":{},\"id\":\"1941\",\"type\":\"SaveTool\"},{\"attributes\":{\"below\":[{\"id\":\"1840\",\"type\":\"LinearAxis\"}],\"left\":[{\"id\":\"1845\",\"type\":\"LinearAxis\"}],\"plot_height\":200,\"plot_width\":200,\"renderers\":[{\"id\":\"1840\",\"type\":\"LinearAxis\"},{\"id\":\"1844\",\"type\":\"Grid\"},{\"id\":\"1845\",\"type\":\"LinearAxis\"},{\"id\":\"1849\",\"type\":\"Grid\"},{\"id\":\"1858\",\"type\":\"BoxAnnotation\"},{\"id\":\"1868\",\"type\":\"GlyphRenderer\"},{\"id\":\"1873\",\"type\":\"GlyphRenderer\"}],\"title\":{\"id\":\"1831\",\"type\":\"Title\"},\"toolbar\":{\"id\":\"1856\",\"type\":\"Toolbar\"},\"toolbar_location\":null,\"x_range\":{\"id\":\"1754\",\"type\":\"DataRange1d\"},\"x_scale\":{\"id\":\"1836\",\"type\":\"LinearScale\"},\"y_range\":{\"id\":\"1756\",\"type\":\"DataRange1d\"},\"y_scale\":{\"id\":\"1838\",\"type\":\"LinearScale\"}},\"id\":\"1832\",\"subtype\":\"Figure\",\"type\":\"Plot\"},{\"attributes\":{\"fill_alpha\":{\"value\":0.1},\"fill_color\":{\"value\":\"#1f77b4\"},\"line_alpha\":{\"value\":0.1},\"line_color\":{\"value\":\"#1f77b4\"},\"size\":{\"units\":\"screen\",\"value\":9},\"x\":{\"field\":\"x\"},\"y\":{\"field\":\"y\"}},\"id\":\"1867\",\"type\":\"Circle\"},{\"attributes\":{},\"id\":\"1942\",\"type\":\"ResetTool\"},{\"attributes\":{\"plot\":null,\"text\":\"degree 2\"},\"id\":\"1831\",\"type\":\"Title\"},{\"attributes\":{},\"id\":\"1943\",\"type\":\"HelpTool\"},{\"attributes\":{},\"id\":\"1836\",\"type\":\"LinearScale\"},{\"attributes\":{\"active_drag\":\"auto\",\"active_inspect\":\"auto\",\"active_multi\":null,\"active_scroll\":\"auto\",\"active_tap\":\"auto\",\"tools\":[{\"id\":\"1938\",\"type\":\"PanTool\"},{\"id\":\"1939\",\"type\":\"WheelZoomTool\"},{\"id\":\"1940\",\"type\":\"BoxZoomTool\"},{\"id\":\"1941\",\"type\":\"SaveTool\"},{\"id\":\"1942\",\"type\":\"ResetTool\"},{\"id\":\"1943\",\"type\":\"HelpTool\"}]},\"id\":\"1944\",\"type\":\"Toolbar\"},{\"attributes\":{\"callback\":null},\"id\":\"1754\",\"type\":\"DataRange1d\"},{\"attributes\":{},\"id\":\"1838\",\"type\":\"LinearScale\"},{\"attributes\":{\"data_source\":{\"id\":\"1953\",\"type\":\"ColumnDataSource\"},\"glyph\":{\"id\":\"1954\",\"type\":\"Circle\"},\"hover_glyph\":null,\"muted_glyph\":null,\"nonselection_glyph\":{\"id\":\"1955\",\"type\":\"Circle\"},\"selection_glyph\":null,\"view\":{\"id\":\"1957\",\"type\":\"CDSView\"}},\"id\":\"1956\",\"type\":\"GlyphRenderer\"},{\"attributes\":{\"bottom_units\":\"screen\",\"fill_alpha\":{\"value\":0.5},\"fill_color\":{\"value\":\"lightgrey\"},\"left_units\":\"screen\",\"level\":\"overlay\",\"line_alpha\":{\"value\":1.0},\"line_color\":{\"value\":\"black\"},\"line_dash\":[4,4],\"line_width\":{\"value\":2},\"plot\":null,\"render_mode\":\"css\",\"right_units\":\"screen\",\"top_units\":\"screen\"},\"id\":\"1946\",\"type\":\"BoxAnnotation\"},{\"attributes\":{\"formatter\":{\"id\":\"1978\",\"type\":\"BasicTickFormatter\"},\"plot\":{\"id\":\"1832\",\"subtype\":\"Figure\",\"type\":\"Plot\"},\"ticker\":{\"id\":\"1841\",\"type\":\"BasicTicker\"}},\"id\":\"1840\",\"type\":\"LinearAxis\"},{\"attributes\":{},\"id\":\"1841\",\"type\":\"BasicTicker\"},{\"attributes\":{\"source\":{\"id\":\"1953\",\"type\":\"ColumnDataSource\"}},\"id\":\"1957\",\"type\":\"CDSView\"},{\"attributes\":{\"plot\":{\"id\":\"1832\",\"subtype\":\"Figure\",\"type\":\"Plot\"},\"ticker\":{\"id\":\"1841\",\"type\":\"BasicTicker\"}},\"id\":\"1844\",\"type\":\"Grid\"},{\"attributes\":{\"callback\":null,\"data\":{\"x\":{\"__ndarray__\":\"AAAAAAAAAAAAAAAAAADwPwAAAAAAAABAAAAAAAAACEAAAAAAAAAQQAAAAAAAABRA\",\"dtype\":\"float64\",\"shape\":[6]},\"y\":{\"__ndarray__\":\"RHoBGqABar8CgiAIgiAIQPV93/d93xNAB4IgCIIgGED9vu/7vu8ZQA4N0AAN0BpA\",\"dtype\":\"float64\",\"shape\":[6]}},\"selected\":{\"id\":\"2004\",\"type\":\"Selection\"},\"selection_policy\":{\"id\":\"2005\",\"type\":\"UnionRenderers\"}},\"id\":\"1958\",\"type\":\"ColumnDataSource\"},{\"attributes\":{\"formatter\":{\"id\":\"1976\",\"type\":\"BasicTickFormatter\"},\"plot\":{\"id\":\"1832\",\"subtype\":\"Figure\",\"type\":\"Plot\"},\"ticker\":{\"id\":\"1846\",\"type\":\"BasicTicker\"}},\"id\":\"1845\",\"type\":\"LinearAxis\"},{\"attributes\":{\"callback\":null},\"id\":\"1756\",\"type\":\"DataRange1d\"},{\"attributes\":{\"line_alpha\":0.6,\"line_color\":\"red\",\"line_width\":5,\"x\":{\"field\":\"x\"},\"y\":{\"field\":\"y\"}},\"id\":\"1959\",\"type\":\"Line\"},{\"attributes\":{},\"id\":\"1846\",\"type\":\"BasicTicker\"},{\"attributes\":{\"line_alpha\":0.1,\"line_color\":\"#1f77b4\",\"line_width\":5,\"x\":{\"field\":\"x\"},\"y\":{\"field\":\"y\"}},\"id\":\"1960\",\"type\":\"Line\"},{\"attributes\":{\"dimension\":1,\"plot\":{\"id\":\"1832\",\"subtype\":\"Figure\",\"type\":\"Plot\"},\"ticker\":{\"id\":\"1846\",\"type\":\"BasicTicker\"}},\"id\":\"1849\",\"type\":\"Grid\"},{\"attributes\":{\"below\":[{\"id\":\"1796\",\"type\":\"LinearAxis\"}],\"left\":[{\"id\":\"1801\",\"type\":\"LinearAxis\"}],\"plot_height\":200,\"plot_width\":200,\"renderers\":[{\"id\":\"1796\",\"type\":\"LinearAxis\"},{\"id\":\"1800\",\"type\":\"Grid\"},{\"id\":\"1801\",\"type\":\"LinearAxis\"},{\"id\":\"1805\",\"type\":\"Grid\"},{\"id\":\"1814\",\"type\":\"BoxAnnotation\"},{\"id\":\"1824\",\"type\":\"GlyphRenderer\"},{\"id\":\"1829\",\"type\":\"GlyphRenderer\"}],\"title\":{\"id\":\"1787\",\"type\":\"Title\"},\"toolbar\":{\"id\":\"1812\",\"type\":\"Toolbar\"},\"toolbar_location\":null,\"x_range\":{\"id\":\"1754\",\"type\":\"DataRange1d\"},\"x_scale\":{\"id\":\"1792\",\"type\":\"LinearScale\"},\"y_range\":{\"id\":\"1756\",\"type\":\"DataRange1d\"},\"y_scale\":{\"id\":\"1794\",\"type\":\"LinearScale\"}},\"id\":\"1788\",\"subtype\":\"Figure\",\"type\":\"Plot\"},{\"attributes\":{\"data_source\":{\"id\":\"1958\",\"type\":\"ColumnDataSource\"},\"glyph\":{\"id\":\"1959\",\"type\":\"Line\"},\"hover_glyph\":null,\"muted_glyph\":null,\"nonselection_glyph\":{\"id\":\"1960\",\"type\":\"Line\"},\"selection_glyph\":null,\"view\":{\"id\":\"1962\",\"type\":\"CDSView\"}},\"id\":\"1961\",\"type\":\"GlyphRenderer\"},{\"attributes\":{\"plot\":null,\"text\":\"degree 1\"},\"id\":\"1787\",\"type\":\"Title\"},{\"attributes\":{\"fill_alpha\":{\"value\":0.4},\"fill_color\":{\"value\":\"blue\"},\"line_alpha\":{\"value\":0.4},\"line_color\":{\"value\":\"blue\"},\"size\":{\"units\":\"screen\",\"value\":9},\"x\":{\"field\":\"x\"},\"y\":{\"field\":\"y\"}},\"id\":\"1866\",\"type\":\"Circle\"},{\"attributes\":{\"source\":{\"id\":\"1958\",\"type\":\"ColumnDataSource\"}},\"id\":\"1962\",\"type\":\"CDSView\"},{\"attributes\":{},\"id\":\"1792\",\"type\":\"LinearScale\"},{\"attributes\":{\"children\":[{\"id\":\"1985\",\"type\":\"Row\"},{\"id\":\"2008\",\"type\":\"Row\"}]},\"id\":\"2009\",\"type\":\"Column\"},{\"attributes\":{\"callback\":null,\"data\":{\"x\":{\"__ndarray__\":\"AAAAAAAAAAAAAAAAAADwPwAAAAAAAABAAAAAAAAACEAAAAAAAAAQQAAAAAAAABRA\",\"dtype\":\"float64\",\"shape\":[6]},\"y\":{\"__ndarray__\":\"AAAAAAAAAAAAAAAAAAAIQAAAAAAAABRAAAAAAAAAGEAAAAAAAAAaQM3MzMzMzBpA\",\"dtype\":\"float64\",\"shape\":[6]}},\"selected\":{\"id\":\"1979\",\"type\":\"Selection\"},\"selection_policy\":{\"id\":\"1980\",\"type\":\"UnionRenderers\"}},\"id\":\"1865\",\"type\":\"ColumnDataSource\"},{\"attributes\":{\"children\":[{\"id\":\"1788\",\"subtype\":\"Figure\",\"type\":\"Plot\"},{\"id\":\"1832\",\"subtype\":\"Figure\",\"type\":\"Plot\"}]},\"id\":\"1985\",\"type\":\"Row\"},{\"attributes\":{\"data_source\":{\"id\":\"1865\",\"type\":\"ColumnDataSource\"},\"glyph\":{\"id\":\"1866\",\"type\":\"Circle\"},\"hover_glyph\":null,\"muted_glyph\":null,\"nonselection_glyph\":{\"id\":\"1867\",\"type\":\"Circle\"},\"selection_glyph\":null,\"view\":{\"id\":\"1869\",\"type\":\"CDSView\"}},\"id\":\"1868\",\"type\":\"GlyphRenderer\"},{\"attributes\":{},\"id\":\"1850\",\"type\":\"PanTool\"},{\"attributes\":{},\"id\":\"1965\",\"type\":\"BasicTickFormatter\"},{\"attributes\":{},\"id\":\"1851\",\"type\":\"WheelZoomTool\"},{\"attributes\":{},\"id\":\"1968\",\"type\":\"Selection\"},{\"attributes\":{\"overlay\":{\"id\":\"1858\",\"type\":\"BoxAnnotation\"}},\"id\":\"1852\",\"type\":\"BoxZoomTool\"},{\"attributes\":{},\"id\":\"1969\",\"type\":\"UnionRenderers\"},{\"attributes\":{},\"id\":\"1853\",\"type\":\"SaveTool\"},{\"attributes\":{\"callback\":null,\"data\":{\"x\":{\"__ndarray__\":\"AAAAAAAAAAAAAAAAAADwPwAAAAAAAABAAAAAAAAACEAAAAAAAAAQQAAAAAAAABRA\",\"dtype\":\"float64\",\"shape\":[6]},\"y\":{\"__ndarray__\":\"AAAAAAAAAAAAAAAAAAAIQAAAAAAAABRAAAAAAAAAGEAAAAAAAAAaQM3MzMzMzBpA\",\"dtype\":\"float64\",\"shape\":[6]}},\"selected\":{\"id\":\"1968\",\"type\":\"Selection\"},\"selection_policy\":{\"id\":\"1969\",\"type\":\"UnionRenderers\"}},\"id\":\"1821\",\"type\":\"ColumnDataSource\"},{\"attributes\":{},\"id\":\"1970\",\"type\":\"Selection\"},{\"attributes\":{},\"id\":\"1854\",\"type\":\"ResetTool\"},{\"attributes\":{},\"id\":\"1971\",\"type\":\"UnionRenderers\"},{\"attributes\":{},\"id\":\"1855\",\"type\":\"HelpTool\"},{\"attributes\":{},\"id\":\"1976\",\"type\":\"BasicTickFormatter\"},{\"attributes\":{\"active_drag\":\"auto\",\"active_inspect\":\"auto\",\"active_multi\":null,\"active_scroll\":\"auto\",\"active_tap\":\"auto\",\"tools\":[{\"id\":\"1850\",\"type\":\"PanTool\"},{\"id\":\"1851\",\"type\":\"WheelZoomTool\"},{\"id\":\"1852\",\"type\":\"BoxZoomTool\"},{\"id\":\"1853\",\"type\":\"SaveTool\"},{\"id\":\"1854\",\"type\":\"ResetTool\"},{\"id\":\"1855\",\"type\":\"HelpTool\"}]},\"id\":\"1856\",\"type\":\"Toolbar\"},{\"attributes\":{},\"id\":\"1978\",\"type\":\"BasicTickFormatter\"},{\"attributes\":{\"bottom_units\":\"screen\",\"fill_alpha\":{\"value\":0.5},\"fill_color\":{\"value\":\"lightgrey\"},\"left_units\":\"screen\",\"level\":\"overlay\",\"line_alpha\":{\"value\":1.0},\"line_color\":{\"value\":\"black\"},\"line_dash\":[4,4],\"line_width\":{\"value\":2},\"plot\":null,\"render_mode\":\"css\",\"right_units\":\"screen\",\"top_units\":\"screen\"},\"id\":\"1858\",\"type\":\"BoxAnnotation\"},{\"attributes\":{},\"id\":\"1979\",\"type\":\"Selection\"},{\"attributes\":{},\"id\":\"1980\",\"type\":\"UnionRenderers\"},{\"attributes\":{\"source\":{\"id\":\"1865\",\"type\":\"ColumnDataSource\"}},\"id\":\"1869\",\"type\":\"CDSView\"},{\"attributes\":{},\"id\":\"1981\",\"type\":\"Selection\"},{\"attributes\":{\"callback\":null,\"data\":{\"x\":{\"__ndarray__\":\"AAAAAAAAAAAAAAAAAADwPwAAAAAAAABAAAAAAAAACEAAAAAAAAAQQAAAAAAAABRA\",\"dtype\":\"float64\",\"shape\":[6]},\"y\":{\"__ndarray__\":\"8Ad1UAd1wD/rK77iK74GQPYVX/EVXxNAPqiDOqiDGEDQzMzMzMwaQKyDOqiDOhpA\",\"dtype\":\"float64\",\"shape\":[6]}},\"selected\":{\"id\":\"1981\",\"type\":\"Selection\"},\"selection_policy\":{\"id\":\"1982\",\"type\":\"UnionRenderers\"}},\"id\":\"1870\",\"type\":\"ColumnDataSource\"},{\"attributes\":{},\"id\":\"1982\",\"type\":\"UnionRenderers\"},{\"attributes\":{\"line_alpha\":0.6,\"line_color\":\"red\",\"line_width\":5,\"x\":{\"field\":\"x\"},\"y\":{\"field\":\"y\"}},\"id\":\"1871\",\"type\":\"Line\"},{\"attributes\":{\"children\":[{\"id\":\"1876\",\"subtype\":\"Figure\",\"type\":\"Plot\"},{\"id\":\"1920\",\"subtype\":\"Figure\",\"type\":\"Plot\"}]},\"id\":\"2008\",\"type\":\"Row\"},{\"attributes\":{\"line_alpha\":0.1,\"line_color\":\"#1f77b4\",\"line_width\":5,\"x\":{\"field\":\"x\"},\"y\":{\"field\":\"y\"}},\"id\":\"1872\",\"type\":\"Line\"},{\"attributes\":{},\"id\":\"1988\",\"type\":\"BasicTickFormatter\"},{\"attributes\":{\"data_source\":{\"id\":\"1870\",\"type\":\"ColumnDataSource\"},\"glyph\":{\"id\":\"1871\",\"type\":\"Line\"},\"hover_glyph\":null,\"muted_glyph\":null,\"nonselection_glyph\":{\"id\":\"1872\",\"type\":\"Line\"},\"selection_glyph\":null,\"view\":{\"id\":\"1874\",\"type\":\"CDSView\"}},\"id\":\"1873\",\"type\":\"GlyphRenderer\"},{\"attributes\":{},\"id\":\"1990\",\"type\":\"BasicTickFormatter\"},{\"attributes\":{\"source\":{\"id\":\"1870\",\"type\":\"ColumnDataSource\"}},\"id\":\"1874\",\"type\":\"CDSView\"},{\"attributes\":{},\"id\":\"1991\",\"type\":\"Selection\"},{\"attributes\":{\"below\":[{\"id\":\"1884\",\"type\":\"LinearAxis\"}],\"left\":[{\"id\":\"1889\",\"type\":\"LinearAxis\"}],\"plot_height\":200,\"plot_width\":200,\"renderers\":[{\"id\":\"1884\",\"type\":\"LinearAxis\"},{\"id\":\"1888\",\"type\":\"Grid\"},{\"id\":\"1889\",\"type\":\"LinearAxis\"},{\"id\":\"1893\",\"type\":\"Grid\"},{\"id\":\"1902\",\"type\":\"BoxAnnotation\"},{\"id\":\"1912\",\"type\":\"GlyphRenderer\"},{\"id\":\"1917\",\"type\":\"GlyphRenderer\"}],\"title\":{\"id\":\"1875\",\"type\":\"Title\"},\"toolbar\":{\"id\":\"1900\",\"type\":\"Toolbar\"},\"toolbar_location\":null,\"x_range\":{\"id\":\"1754\",\"type\":\"DataRange1d\"},\"x_scale\":{\"id\":\"1880\",\"type\":\"LinearScale\"},\"y_range\":{\"id\":\"1756\",\"type\":\"DataRange1d\"},\"y_scale\":{\"id\":\"1882\",\"type\":\"LinearScale\"}},\"id\":\"1876\",\"subtype\":\"Figure\",\"type\":\"Plot\"},{\"attributes\":{\"callback\":null,\"data\":{\"x\":{\"__ndarray__\":\"AAAAAAAAAAAAAAAAAADwPwAAAAAAAABAAAAAAAAACEAAAAAAAAAQQAAAAAAAABRA\",\"dtype\":\"float64\",\"shape\":[6]},\"y\":{\"__ndarray__\":\"AAAAAAAAAAAAAAAAAAAIQAAAAAAAABRAAAAAAAAAGEAAAAAAAAAaQM3MzMzMzBpA\",\"dtype\":\"float64\",\"shape\":[6]}},\"selected\":{\"id\":\"1991\",\"type\":\"Selection\"},\"selection_policy\":{\"id\":\"1992\",\"type\":\"UnionRenderers\"}},\"id\":\"1909\",\"type\":\"ColumnDataSource\"},{\"attributes\":{},\"id\":\"1992\",\"type\":\"UnionRenderers\"},{\"attributes\":{\"plot\":null,\"text\":\"degree 3\"},\"id\":\"1875\",\"type\":\"Title\"},{\"attributes\":{},\"id\":\"1993\",\"type\":\"Selection\"},{\"attributes\":{},\"id\":\"1880\",\"type\":\"LinearScale\"},{\"attributes\":{},\"id\":\"1994\",\"type\":\"UnionRenderers\"},{\"attributes\":{},\"id\":\"1882\",\"type\":\"LinearScale\"},{\"attributes\":{},\"id\":\"1999\",\"type\":\"BasicTickFormatter\"},{\"attributes\":{\"data_source\":{\"id\":\"1821\",\"type\":\"ColumnDataSource\"},\"glyph\":{\"id\":\"1822\",\"type\":\"Circle\"},\"hover_glyph\":null,\"muted_glyph\":null,\"nonselection_glyph\":{\"id\":\"1823\",\"type\":\"Circle\"},\"selection_glyph\":null,\"view\":{\"id\":\"1825\",\"type\":\"CDSView\"}},\"id\":\"1824\",\"type\":\"GlyphRenderer\"},{\"attributes\":{\"formatter\":{\"id\":\"1990\",\"type\":\"BasicTickFormatter\"},\"plot\":{\"id\":\"1876\",\"subtype\":\"Figure\",\"type\":\"Plot\"},\"ticker\":{\"id\":\"1885\",\"type\":\"BasicTicker\"}},\"id\":\"1884\",\"type\":\"LinearAxis\"},{\"attributes\":{},\"id\":\"2001\",\"type\":\"BasicTickFormatter\"},{\"attributes\":{},\"id\":\"1885\",\"type\":\"BasicTicker\"},{\"attributes\":{},\"id\":\"2002\",\"type\":\"Selection\"},{\"attributes\":{\"plot\":{\"id\":\"1876\",\"subtype\":\"Figure\",\"type\":\"Plot\"},\"ticker\":{\"id\":\"1885\",\"type\":\"BasicTicker\"}},\"id\":\"1888\",\"type\":\"Grid\"},{\"attributes\":{},\"id\":\"2003\",\"type\":\"UnionRenderers\"},{\"attributes\":{\"formatter\":{\"id\":\"1988\",\"type\":\"BasicTickFormatter\"},\"plot\":{\"id\":\"1876\",\"subtype\":\"Figure\",\"type\":\"Plot\"},\"ticker\":{\"id\":\"1890\",\"type\":\"BasicTicker\"}},\"id\":\"1889\",\"type\":\"LinearAxis\"},{\"attributes\":{},\"id\":\"2004\",\"type\":\"Selection\"},{\"attributes\":{},\"id\":\"1890\",\"type\":\"BasicTicker\"},{\"attributes\":{},\"id\":\"2005\",\"type\":\"UnionRenderers\"},{\"attributes\":{\"dimension\":1,\"plot\":{\"id\":\"1876\",\"subtype\":\"Figure\",\"type\":\"Plot\"},\"ticker\":{\"id\":\"1890\",\"type\":\"BasicTicker\"}},\"id\":\"1893\",\"type\":\"Grid\"},{\"attributes\":{\"tools\":[{\"id\":\"1806\",\"type\":\"PanTool\"},{\"id\":\"1807\",\"type\":\"WheelZoomTool\"},{\"id\":\"1808\",\"type\":\"BoxZoomTool\"},{\"id\":\"1809\",\"type\":\"SaveTool\"},{\"id\":\"1810\",\"type\":\"ResetTool\"},{\"id\":\"1811\",\"type\":\"HelpTool\"},{\"id\":\"1850\",\"type\":\"PanTool\"},{\"id\":\"1851\",\"type\":\"WheelZoomTool\"},{\"id\":\"1852\",\"type\":\"BoxZoomTool\"},{\"id\":\"1853\",\"type\":\"SaveTool\"},{\"id\":\"1854\",\"type\":\"ResetTool\"},{\"id\":\"1855\",\"type\":\"HelpTool\"},{\"id\":\"1894\",\"type\":\"PanTool\"},{\"id\":\"1895\",\"type\":\"WheelZoomTool\"},{\"id\":\"1896\",\"type\":\"BoxZoomTool\"},{\"id\":\"1897\",\"type\":\"SaveTool\"},{\"id\":\"1898\",\"type\":\"ResetTool\"},{\"id\":\"1899\",\"type\":\"HelpTool\"},{\"id\":\"1938\",\"type\":\"PanTool\"},{\"id\":\"1939\",\"type\":\"WheelZoomTool\"},{\"id\":\"1940\",\"type\":\"BoxZoomTool\"},{\"id\":\"1941\",\"type\":\"SaveTool\"},{\"id\":\"1942\",\"type\":\"ResetTool\"},{\"id\":\"1943\",\"type\":\"HelpTool\"}]},\"id\":\"2010\",\"type\":\"ProxyToolbar\"},{\"attributes\":{\"fill_alpha\":{\"value\":0.1},\"fill_color\":{\"value\":\"#1f77b4\"},\"line_alpha\":{\"value\":0.1},\"line_color\":{\"value\":\"#1f77b4\"},\"size\":{\"units\":\"screen\",\"value\":9},\"x\":{\"field\":\"x\"},\"y\":{\"field\":\"y\"}},\"id\":\"1911\",\"type\":\"Circle\"},{\"attributes\":{\"toolbar\":{\"id\":\"2010\",\"type\":\"ProxyToolbar\"},\"toolbar_location\":\"above\"},\"id\":\"2011\",\"type\":\"ToolbarBox\"},{\"attributes\":{\"fill_alpha\":{\"value\":0.4},\"fill_color\":{\"value\":\"blue\"},\"line_alpha\":{\"value\":0.4},\"line_color\":{\"value\":\"blue\"},\"size\":{\"units\":\"screen\",\"value\":9},\"x\":{\"field\":\"x\"},\"y\":{\"field\":\"y\"}},\"id\":\"1910\",\"type\":\"Circle\"},{\"attributes\":{},\"id\":\"1794\",\"type\":\"LinearScale\"},{\"attributes\":{\"data_source\":{\"id\":\"1909\",\"type\":\"ColumnDataSource\"},\"glyph\":{\"id\":\"1910\",\"type\":\"Circle\"},\"hover_glyph\":null,\"muted_glyph\":null,\"nonselection_glyph\":{\"id\":\"1911\",\"type\":\"Circle\"},\"selection_glyph\":null,\"view\":{\"id\":\"1913\",\"type\":\"CDSView\"}},\"id\":\"1912\",\"type\":\"GlyphRenderer\"},{\"attributes\":{},\"id\":\"1894\",\"type\":\"PanTool\"},{\"attributes\":{},\"id\":\"1895\",\"type\":\"WheelZoomTool\"},{\"attributes\":{\"formatter\":{\"id\":\"1967\",\"type\":\"BasicTickFormatter\"},\"plot\":{\"id\":\"1788\",\"subtype\":\"Figure\",\"type\":\"Plot\"},\"ticker\":{\"id\":\"1797\",\"type\":\"BasicTicker\"}},\"id\":\"1796\",\"type\":\"LinearAxis\"},{\"attributes\":{\"overlay\":{\"id\":\"1902\",\"type\":\"BoxAnnotation\"}},\"id\":\"1896\",\"type\":\"BoxZoomTool\"},{\"attributes\":{},\"id\":\"1897\",\"type\":\"SaveTool\"},{\"attributes\":{},\"id\":\"1797\",\"type\":\"BasicTicker\"},{\"attributes\":{},\"id\":\"1898\",\"type\":\"ResetTool\"},{\"attributes\":{\"plot\":{\"id\":\"1788\",\"subtype\":\"Figure\",\"type\":\"Plot\"},\"ticker\":{\"id\":\"1797\",\"type\":\"BasicTicker\"}},\"id\":\"1800\",\"type\":\"Grid\"},{\"attributes\":{},\"id\":\"1899\",\"type\":\"HelpTool\"},{\"attributes\":{},\"id\":\"1802\",\"type\":\"BasicTicker\"},{\"attributes\":{\"formatter\":{\"id\":\"1965\",\"type\":\"BasicTickFormatter\"},\"plot\":{\"id\":\"1788\",\"subtype\":\"Figure\",\"type\":\"Plot\"},\"ticker\":{\"id\":\"1802\",\"type\":\"BasicTicker\"}},\"id\":\"1801\",\"type\":\"LinearAxis\"},{\"attributes\":{\"active_drag\":\"auto\",\"active_inspect\":\"auto\",\"active_multi\":null,\"active_scroll\":\"auto\",\"active_tap\":\"auto\",\"tools\":[{\"id\":\"1894\",\"type\":\"PanTool\"},{\"id\":\"1895\",\"type\":\"WheelZoomTool\"},{\"id\":\"1896\",\"type\":\"BoxZoomTool\"},{\"id\":\"1897\",\"type\":\"SaveTool\"},{\"id\":\"1898\",\"type\":\"ResetTool\"},{\"id\":\"1899\",\"type\":\"HelpTool\"}]},\"id\":\"1900\",\"type\":\"Toolbar\"},{\"attributes\":{\"bottom_units\":\"screen\",\"fill_alpha\":{\"value\":0.5},\"fill_color\":{\"value\":\"lightgrey\"},\"left_units\":\"screen\",\"level\":\"overlay\",\"line_alpha\":{\"value\":1.0},\"line_color\":{\"value\":\"black\"},\"line_dash\":[4,4],\"line_width\":{\"value\":2},\"plot\":null,\"render_mode\":\"css\",\"right_units\":\"screen\",\"top_units\":\"screen\"},\"id\":\"1902\",\"type\":\"BoxAnnotation\"},{\"attributes\":{\"source\":{\"id\":\"1909\",\"type\":\"ColumnDataSource\"}},\"id\":\"1913\",\"type\":\"CDSView\"},{\"attributes\":{\"source\":{\"id\":\"1826\",\"type\":\"ColumnDataSource\"}},\"id\":\"1830\",\"type\":\"CDSView\"},{\"attributes\":{\"overlay\":{\"id\":\"1814\",\"type\":\"BoxAnnotation\"}},\"id\":\"1808\",\"type\":\"BoxZoomTool\"},{\"attributes\":{\"callback\":null,\"data\":{\"x\":{\"__ndarray__\":\"AAAAAAAAAAAAAAAAAADwPwAAAAAAAABAAAAAAAAACEAAAAAAAAAQQAAAAAAAABRA\",\"dtype\":\"float64\",\"shape\":[6]},\"y\":{\"__ndarray__\":\"gFEhFVIhhb/OZEzGZEwIQBXd0A3d0BNAJeERHuERGEBfsAVbsAUaQIW8yIu8yBpA\",\"dtype\":\"float64\",\"shape\":[6]}},\"selected\":{\"id\":\"1993\",\"type\":\"Selection\"},\"selection_policy\":{\"id\":\"1994\",\"type\":\"UnionRenderers\"}},\"id\":\"1914\",\"type\":\"ColumnDataSource\"},{\"attributes\":{},\"id\":\"1809\",\"type\":\"SaveTool\"},{\"attributes\":{\"line_alpha\":0.6,\"line_color\":\"red\",\"line_width\":5,\"x\":{\"field\":\"x\"},\"y\":{\"field\":\"y\"}},\"id\":\"1915\",\"type\":\"Line\"},{\"attributes\":{\"line_alpha\":0.1,\"line_color\":\"#1f77b4\",\"line_width\":5,\"x\":{\"field\":\"x\"},\"y\":{\"field\":\"y\"}},\"id\":\"1916\",\"type\":\"Line\"},{\"attributes\":{\"data_source\":{\"id\":\"1826\",\"type\":\"ColumnDataSource\"},\"glyph\":{\"id\":\"1827\",\"type\":\"Line\"},\"hover_glyph\":null,\"muted_glyph\":null,\"nonselection_glyph\":{\"id\":\"1828\",\"type\":\"Line\"},\"selection_glyph\":null,\"view\":{\"id\":\"1830\",\"type\":\"CDSView\"}},\"id\":\"1829\",\"type\":\"GlyphRenderer\"},{\"attributes\":{\"data_source\":{\"id\":\"1914\",\"type\":\"ColumnDataSource\"},\"glyph\":{\"id\":\"1915\",\"type\":\"Line\"},\"hover_glyph\":null,\"muted_glyph\":null,\"nonselection_glyph\":{\"id\":\"1916\",\"type\":\"Line\"},\"selection_glyph\":null,\"view\":{\"id\":\"1918\",\"type\":\"CDSView\"}},\"id\":\"1917\",\"type\":\"GlyphRenderer\"},{\"attributes\":{\"fill_alpha\":{\"value\":0.4},\"fill_color\":{\"value\":\"blue\"},\"line_alpha\":{\"value\":0.4},\"line_color\":{\"value\":\"blue\"},\"size\":{\"units\":\"screen\",\"value\":9},\"x\":{\"field\":\"x\"},\"y\":{\"field\":\"y\"}},\"id\":\"1822\",\"type\":\"Circle\"},{\"attributes\":{\"line_alpha\":0.6,\"line_color\":\"red\",\"line_width\":5,\"x\":{\"field\":\"x\"},\"y\":{\"field\":\"y\"}},\"id\":\"1827\",\"type\":\"Line\"},{\"attributes\":{\"source\":{\"id\":\"1914\",\"type\":\"ColumnDataSource\"}},\"id\":\"1918\",\"type\":\"CDSView\"},{\"attributes\":{\"below\":[{\"id\":\"1928\",\"type\":\"LinearAxis\"}],\"left\":[{\"id\":\"1933\",\"type\":\"LinearAxis\"}],\"plot_height\":200,\"plot_width\":200,\"renderers\":[{\"id\":\"1928\",\"type\":\"LinearAxis\"},{\"id\":\"1932\",\"type\":\"Grid\"},{\"id\":\"1933\",\"type\":\"LinearAxis\"},{\"id\":\"1937\",\"type\":\"Grid\"},{\"id\":\"1946\",\"type\":\"BoxAnnotation\"},{\"id\":\"1956\",\"type\":\"GlyphRenderer\"},{\"id\":\"1961\",\"type\":\"GlyphRenderer\"}],\"title\":{\"id\":\"1919\",\"type\":\"Title\"},\"toolbar\":{\"id\":\"1944\",\"type\":\"Toolbar\"},\"toolbar_location\":null,\"x_range\":{\"id\":\"1754\",\"type\":\"DataRange1d\"},\"x_scale\":{\"id\":\"1924\",\"type\":\"LinearScale\"},\"y_range\":{\"id\":\"1756\",\"type\":\"DataRange1d\"},\"y_scale\":{\"id\":\"1926\",\"type\":\"LinearScale\"}},\"id\":\"1920\",\"subtype\":\"Figure\",\"type\":\"Plot\"},{\"attributes\":{\"fill_alpha\":{\"value\":0.1},\"fill_color\":{\"value\":\"#1f77b4\"},\"line_alpha\":{\"value\":0.1},\"line_color\":{\"value\":\"#1f77b4\"},\"size\":{\"units\":\"screen\",\"value\":9},\"x\":{\"field\":\"x\"},\"y\":{\"field\":\"y\"}},\"id\":\"1955\",\"type\":\"Circle\"},{\"attributes\":{\"plot\":null,\"text\":\"degree 4\"},\"id\":\"1919\",\"type\":\"Title\"},{\"attributes\":{},\"id\":\"1924\",\"type\":\"LinearScale\"},{\"attributes\":{},\"id\":\"1807\",\"type\":\"WheelZoomTool\"},{\"attributes\":{},\"id\":\"1926\",\"type\":\"LinearScale\"},{\"attributes\":{\"dimension\":1,\"plot\":{\"id\":\"1788\",\"subtype\":\"Figure\",\"type\":\"Plot\"},\"ticker\":{\"id\":\"1802\",\"type\":\"BasicTicker\"}},\"id\":\"1805\",\"type\":\"Grid\"},{\"attributes\":{\"formatter\":{\"id\":\"2001\",\"type\":\"BasicTickFormatter\"},\"plot\":{\"id\":\"1920\",\"subtype\":\"Figure\",\"type\":\"Plot\"},\"ticker\":{\"id\":\"1929\",\"type\":\"BasicTicker\"}},\"id\":\"1928\",\"type\":\"LinearAxis\"},{\"attributes\":{\"fill_alpha\":{\"value\":0.1},\"fill_color\":{\"value\":\"#1f77b4\"},\"line_alpha\":{\"value\":0.1},\"line_color\":{\"value\":\"#1f77b4\"},\"size\":{\"units\":\"screen\",\"value\":9},\"x\":{\"field\":\"x\"},\"y\":{\"field\":\"y\"}},\"id\":\"1823\",\"type\":\"Circle\"},{\"attributes\":{},\"id\":\"1929\",\"type\":\"BasicTicker\"},{\"attributes\":{\"active_drag\":\"auto\",\"active_inspect\":\"auto\",\"active_multi\":null,\"active_scroll\":\"auto\",\"active_tap\":\"auto\",\"tools\":[{\"id\":\"1806\",\"type\":\"PanTool\"},{\"id\":\"1807\",\"type\":\"WheelZoomTool\"},{\"id\":\"1808\",\"type\":\"BoxZoomTool\"},{\"id\":\"1809\",\"type\":\"SaveTool\"},{\"id\":\"1810\",\"type\":\"ResetTool\"},{\"id\":\"1811\",\"type\":\"HelpTool\"}]},\"id\":\"1812\",\"type\":\"Toolbar\"},{\"attributes\":{},\"id\":\"1806\",\"type\":\"PanTool\"},{\"attributes\":{\"plot\":{\"id\":\"1920\",\"subtype\":\"Figure\",\"type\":\"Plot\"},\"ticker\":{\"id\":\"1929\",\"type\":\"BasicTicker\"}},\"id\":\"1932\",\"type\":\"Grid\"},{\"attributes\":{\"formatter\":{\"id\":\"1999\",\"type\":\"BasicTickFormatter\"},\"plot\":{\"id\":\"1920\",\"subtype\":\"Figure\",\"type\":\"Plot\"},\"ticker\":{\"id\":\"1934\",\"type\":\"BasicTicker\"}},\"id\":\"1933\",\"type\":\"LinearAxis\"},{\"attributes\":{},\"id\":\"1810\",\"type\":\"ResetTool\"},{\"attributes\":{},\"id\":\"1934\",\"type\":\"BasicTicker\"},{\"attributes\":{},\"id\":\"1811\",\"type\":\"HelpTool\"},{\"attributes\":{\"dimension\":1,\"plot\":{\"id\":\"1920\",\"subtype\":\"Figure\",\"type\":\"Plot\"},\"ticker\":{\"id\":\"1934\",\"type\":\"BasicTicker\"}},\"id\":\"1937\",\"type\":\"Grid\"},{\"attributes\":{\"bottom_units\":\"screen\",\"fill_alpha\":{\"value\":0.5},\"fill_color\":{\"value\":\"lightgrey\"},\"left_units\":\"screen\",\"level\":\"overlay\",\"line_alpha\":{\"value\":1.0},\"line_color\":{\"value\":\"black\"},\"line_dash\":[4,4],\"line_width\":{\"value\":2},\"plot\":null,\"render_mode\":\"css\",\"right_units\":\"screen\",\"top_units\":\"screen\"},\"id\":\"1814\",\"type\":\"BoxAnnotation\"},{\"attributes\":{\"fill_alpha\":{\"value\":0.4},\"fill_color\":{\"value\":\"blue\"},\"line_alpha\":{\"value\":0.4},\"line_color\":{\"value\":\"blue\"},\"size\":{\"units\":\"screen\",\"value\":9},\"x\":{\"field\":\"x\"},\"y\":{\"field\":\"y\"}},\"id\":\"1954\",\"type\":\"Circle\"},{\"attributes\":{\"line_alpha\":0.1,\"line_color\":\"#1f77b4\",\"line_width\":5,\"x\":{\"field\":\"x\"},\"y\":{\"field\":\"y\"}},\"id\":\"1828\",\"type\":\"Line\"},{\"attributes\":{\"callback\":null,\"data\":{\"x\":{\"__ndarray__\":\"AAAAAAAAAAAAAAAAAADwPwAAAAAAAABAAAAAAAAACEAAAAAAAAAQQAAAAAAAABRA\",\"dtype\":\"float64\",\"shape\":[6]},\"y\":{\"__ndarray__\":\"AAAAAAAAAAAAAAAAAAAIQAAAAAAAABRAAAAAAAAAGEAAAAAAAAAaQM3MzMzMzBpA\",\"dtype\":\"float64\",\"shape\":[6]}},\"selected\":{\"id\":\"2002\",\"type\":\"Selection\"},\"selection_policy\":{\"id\":\"2003\",\"type\":\"UnionRenderers\"}},\"id\":\"1953\",\"type\":\"ColumnDataSource\"},{\"attributes\":{},\"id\":\"1967\",\"type\":\"BasicTickFormatter\"},{\"attributes\":{},\"id\":\"1938\",\"type\":\"PanTool\"},{\"attributes\":{\"source\":{\"id\":\"1821\",\"type\":\"ColumnDataSource\"}},\"id\":\"1825\",\"type\":\"CDSView\"},{\"attributes\":{},\"id\":\"1939\",\"type\":\"WheelZoomTool\"},{\"attributes\":{\"callback\":null,\"data\":{\"x\":{\"__ndarray__\":\"AAAAAAAAAAAAAAAAAADwPwAAAAAAAABAAAAAAAAACEAAAAAAAAAQQAAAAAAAABRA\",\"dtype\":\"float64\",\"shape\":[6]},\"y\":{\"__ndarray__\":\"rtEardEa9T9ojdZojdYEQPmxH/uxHw9ARWu0Rmu0FECO/diP/dgZQNaP/diP/R5A\",\"dtype\":\"float64\",\"shape\":[6]}},\"selected\":{\"id\":\"1970\",\"type\":\"Selection\"},\"selection_policy\":{\"id\":\"1971\",\"type\":\"UnionRenderers\"}},\"id\":\"1826\",\"type\":\"ColumnDataSource\"},{\"attributes\":{\"overlay\":{\"id\":\"1946\",\"type\":\"BoxAnnotation\"}},\"id\":\"1940\",\"type\":\"BoxZoomTool\"}],\"root_ids\":[\"2012\"]},\"title\":\"Bokeh Application\",\"version\":\"1.0.2\"}};\n",
       "  var render_items = [{\"docid\":\"2d791c4b-5c3a-4e54-8e4d-2051ea8f2703\",\"roots\":{\"2012\":\"9da88960-cdf9-468e-805c-1afe0ba7a604\"}}];\n",
       "  root.Bokeh.embed.embed_items_notebook(docs_json, render_items);\n",
       "\n",
       "  }\n",
       "  if (root.Bokeh !== undefined) {\n",
       "    embed_document(root);\n",
       "  } else {\n",
       "    var attempts = 0;\n",
       "    var timer = setInterval(function(root) {\n",
       "      if (root.Bokeh !== undefined) {\n",
       "        embed_document(root);\n",
       "        clearInterval(timer);\n",
       "      }\n",
       "      attempts++;\n",
       "      if (attempts > 100) {\n",
       "        console.log(\"Bokeh: ERROR: Unable to run BokehJS code because BokehJS library is missing\");\n",
       "        clearInterval(timer);\n",
       "      }\n",
       "    }, 10, root)\n",
       "  }\n",
       "})(window);"
      ],
      "application/vnd.bokehjs_exec.v0+json": ""
     },
     "metadata": {
      "application/vnd.bokehjs_exec.v0+json": {
       "id": "2012"
      }
     },
     "output_type": "display_data"
    }
   ],
   "source": [
    "Qc = np.array([0, 3, 5, 6, 6.5, 6.7],dtype=float)\n",
    "n=Qc.shape[0]\n",
    "Ql = np.linspace(0,n-1,num=n,)\n",
    "print (Qc)\n",
    "print (n)\n",
    "\n",
    "\n",
    "def polyloop(x,y,k): #polynomials go from 0th to kth degree\n",
    "    plist=[]; p=figure()\n",
    "    for i in range(k):\n",
    "        poly_i=np.polyfit(x,y,i+1) #estimate the polynomial\n",
    "        y_i=np.polyval(poly_i,x) #predict using the estimated polynomial\n",
    "        x_range=p.x_range; y_range=p.y_range #link the plot axes\n",
    "        p=figure(title='degree {}'.format(i+1),x_range=p.x_range, y_range=p.y_range, plot_width=200, plot_height=200)\n",
    "        p.circle(x,y, color='blue', size=9, alpha=.4)\n",
    "        p.line(x, y_i, color='red', line_width=5, alpha=.6)\n",
    "        plist.append(p)\n",
    "    show(gridplot(plist[0:k],ncols=int(np.ceil(k**0.5))))#display the graphs\n",
    "polyloop(Ql,Qc,4)\n"
   ]
  },
  {
   "cell_type": "code",
   "execution_count": 2,
   "metadata": {
    "scrolled": true
   },
   "outputs": [
    {
     "name": "stdout",
     "output_type": "stream",
     "text": [
      "[0.  3.  5.  6.  6.5 6.7]\n",
      "6\n"
     ]
    },
    {
     "data": {
      "text/plain": [
       "<function matplotlib.pyplot.show(*args, **kw)>"
      ]
     },
     "execution_count": 2,
     "metadata": {},
     "output_type": "execute_result"
    },
    {
     "data": {
      "image/png": "[encoded data removed]",
      "text/plain": [
       "<Figure size 432x288 with 4 Axes>"
      ]
     },
     "metadata": {
      "needs_background": "light"
     },
     "output_type": "display_data"
    }
   ],
   "source": [
    "Qc = np.array([0, 3, 5, 6, 6.5, 6.7],dtype=float)\n",
    "n=Qc.shape[0]\n",
    "Ql = np.linspace(0,n-1,num=n,)\n",
    "print (Qc)\n",
    "print (n)\n",
    "\n",
    "\n",
    "for i in range(4):\n",
    "    #print(i)\n",
    "    j=i+2\n",
    "    c= np.polynomial.polynomial.polyfit(Ql,Qc,j)\n",
    "    #print (np.linspace(0,n-1,num=10*n))\n",
    "    xfit=np.linspace(0,n-1,num=10*n)\n",
    "    fitf=np.polynomial.polynomial.polyval(xfit,c)\n",
    "    plt.subplot(3,2,i+1)\n",
    "    plt.scatter(Ql,Qc,s=30)\n",
    "    plt.plot(xfit,fitf)\n",
    "    plt.title('fit with polynomial of degree'+str(j))  \n",
    "plt.show\n"
   ]
  },
  {
   "cell_type": "code",
   "execution_count": 3,
   "metadata": {},
   "outputs": [
    {
     "name": "stdout",
     "output_type": "stream",
     "text": [
      "5.303273669950263\n",
      "4.979710031613373\n",
      "5.035669253743041\n",
      "5.005185108779428\n"
     ]
    },
    {
     "data": {
      "text/plain": [
       "<function matplotlib.pyplot.show(*args, **kw)>"
      ]
     },
     "execution_count": 3,
     "metadata": {},
     "output_type": "execute_result"
    },
    {
     "data": {
      "image/png": "[encoded data removed]",
      "text/plain": [
       "<Figure size 432x288 with 4 Axes>"
      ]
     },
     "metadata": {
      "needs_background": "light"
     },
     "output_type": "display_data"
    }
   ],
   "source": [
    "rent=1\n",
    "wage=10\n",
    "price=7\n",
    "gap=400\n",
    "for i in np.arange(4):\n",
    "    #print(i)\n",
    "    j=i+2\n",
    "    c= np.polynomial.polynomial.polyfit(Ql,Qc,j)\n",
    "    #print (np.linspace(0,n-1,num=10*n))\n",
    "    Qlfit=np.linspace(0.1,n-1,num=gap*n)\n",
    "    Qcfit=np.polynomial.polynomial.polyval(Qlfit,c)\n",
    "    TCost=np.add(rent,np.multiply(Qlfit,wage))\n",
    "    TR=np.multiply(price,Qcfit)\n",
    "    profit=TR-TCost\n",
    "    MC=np.divide(np.diff(TCost),np.diff(Qcfit))\n",
    "    MR=np.divide(np.diff(TR),np.diff(Qcfit))\n",
    "    ATC=np.divide(TCost,Qcfit)\n",
    "    AFC=np.divide(rent,Qcfit)\n",
    "    AVC=np.subtract(ATC,AFC)\n",
    "    maxi1=np.argmax(profit)\n",
    "    Qcfitx=Qcfit[maxi1]\n",
    "    Qlfitx=Qlfit[maxi1]\n",
    "    maxi2=np.argmin(np.square(np.subtract(MR,MC)))\n",
    "    print(Qcfitx)\n",
    "    \n",
    "    \n",
    "    plt.subplot(2,2,i+1)\n",
    "    plt.plot(Qcfit,ATC, label='ATC')\n",
    "    plt.plot(Qcfit[:-1],MC, label='MC')\n",
    "    plt.plot(Qcfit[:-1],MR, label='MR')\n",
    "    \n",
    "    plt.scatter(Qcfitx,MR[maxi1])\n",
    "    plt.scatter(Qcfitx,ATC[maxi1])\n",
    "    plt.legend()\n",
    "    plt.xlim(0,6.5)\n",
    "    plt.ylim(0,2.5*price)\n",
    "    plt.title('fit with polynomial of degree'+str(j))\n",
    "    \n",
    "   \n",
    "    plt.plot(Qcfit,profit, label='profit')\n",
    "    plt.scatter(Qcfitx,profit[maxi1])\n",
    "    plt.xlim(0,6.5)\n",
    "    plt.legend()\n",
    "   \n",
    "  \n",
    "plt.show\n"
   ]
  }
 ],
 "metadata": {
  "kernelspec": {
   "display_name": "Python 3",
   "language": "python",
   "name": "python3"
  },
  "language_info": {
   "codemirror_mode": {
    "name": "ipython",
    "version": 3
   },
   "file_extension": ".py",
   "mimetype": "text/x-python",
   "name": "python",
   "nbconvert_exporter": "python",
   "pygments_lexer": "ipython3",
   "version": "3.7.1"
  },
  "varInspector": {
   "cols": {
    "lenName": 16,
    "lenType": 16,
    "lenVar": 40
   },
   "kernels_config": {
    "python": {
     "delete_cmd_postfix": "",
     "delete_cmd_prefix": "del ",
     "library": "var_list.py",
     "varRefreshCmd": "print(var_dic_list())"
    },
    "r": {
     "delete_cmd_postfix": ") ",
     "delete_cmd_prefix": "rm(",
     "library": "var_list.r",
     "varRefreshCmd": "cat(var_dic_list()) "
    }
   },
   "position": {
    "height": "144.517px",
    "left": "818.167px",
    "right": "31.8333px",
    "top": "109px",
    "width": "350px"
   },
   "types_to_exclude": [
    "module",
    "function",
    "builtin_function_or_method",
    "instance",
    "_Feature"
   ],
   "window_display": true
  }
 },
 "nbformat": 4,
 "nbformat_minor": 2
}
