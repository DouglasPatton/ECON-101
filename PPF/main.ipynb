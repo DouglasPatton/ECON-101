{
 "cells": [
  {
   "cell_type": "code",
   "execution_count": 1,
   "metadata": {},
   "outputs": [
    {
     "data": {
      "text/html": [
       "\n",
       "    <div class=\"bk-root\">\n",
       "        <a href=\"https://bokeh.pydata.org\" target=\"_blank\" class=\"bk-logo bk-logo-small bk-logo-notebook\"></a>\n",
       "        <span id=\"1001\">Loading BokehJS ...</span>\n",
       "    </div>"
      ]
     },
     "metadata": {},
     "output_type": "display_data"
    },
    {
     "data": {
      "application/javascript": [
       "\n",
       "(function(root) {\n",
       "  function now() {\n",
       "    return new Date();\n",
       "  }\n",
       "\n",
       "  var force = true;\n",
       "\n",
       "  if (typeof (root._bokeh_onload_callbacks) === \"undefined\" || force === true) {\n",
       "    root._bokeh_onload_callbacks = [];\n",
       "    root._bokeh_is_loading = undefined;\n",
       "  }\n",
       "\n",
       "  var JS_MIME_TYPE = 'application/javascript';\n",
       "  var HTML_MIME_TYPE = 'text/html';\n",
       "  var EXEC_MIME_TYPE = 'application/vnd.bokehjs_exec.v0+json';\n",
       "  var CLASS_NAME = 'output_bokeh rendered_html';\n",
       "\n",
       "  /**\n",
       "   * Render data to the DOM node\n",
       "   */\n",
       "  function render(props, node) {\n",
       "    var script = document.createElement(\"script\");\n",
       "    node.appendChild(script);\n",
       "  }\n",
       "\n",
       "  /**\n",
       "   * Handle when an output is cleared or removed\n",
       "   */\n",
       "  function handleClearOutput(event, handle) {\n",
       "    var cell = handle.cell;\n",
       "\n",
       "    var id = cell.output_area._bokeh_element_id;\n",
       "    var server_id = cell.output_area._bokeh_server_id;\n",
       "    // Clean up Bokeh references\n",
       "    if (id != null && id in Bokeh.index) {\n",
       "      Bokeh.index[id].model.document.clear();\n",
       "      delete Bokeh.index[id];\n",
       "    }\n",
       "\n",
       "    if (server_id !== undefined) {\n",
       "      // Clean up Bokeh references\n",
       "      var cmd = \"from bokeh.io.state import curstate; print(curstate().uuid_to_server['\" + server_id + \"'].get_sessions()[0].document.roots[0]._id)\";\n",
       "      cell.notebook.kernel.execute(cmd, {\n",
       "        iopub: {\n",
       "          output: function(msg) {\n",
       "            var id = msg.content.text.trim();\n",
       "            if (id in Bokeh.index) {\n",
       "              Bokeh.index[id].model.document.clear();\n",
       "              delete Bokeh.index[id];\n",
       "            }\n",
       "          }\n",
       "        }\n",
       "      });\n",
       "      // Destroy server and session\n",
       "      var cmd = \"import bokeh.io.notebook as ion; ion.destroy_server('\" + server_id + \"')\";\n",
       "      cell.notebook.kernel.execute(cmd);\n",
       "    }\n",
       "  }\n",
       "\n",
       "  /**\n",
       "   * Handle when a new output is added\n",
       "   */\n",
       "  function handleAddOutput(event, handle) {\n",
       "    var output_area = handle.output_area;\n",
       "    var output = handle.output;\n",
       "\n",
       "    // limit handleAddOutput to display_data with EXEC_MIME_TYPE content only\n",
       "    if ((output.output_type != \"display_data\") || (!output.data.hasOwnProperty(EXEC_MIME_TYPE))) {\n",
       "      return\n",
       "    }\n",
       "\n",
       "    var toinsert = output_area.element.find(\".\" + CLASS_NAME.split(' ')[0]);\n",
       "\n",
       "    if (output.metadata[EXEC_MIME_TYPE][\"id\"] !== undefined) {\n",
       "      toinsert[toinsert.length - 1].firstChild.textContent = output.data[JS_MIME_TYPE];\n",
       "      // store reference to embed id on output_area\n",
       "      output_area._bokeh_element_id = output.metadata[EXEC_MIME_TYPE][\"id\"];\n",
       "    }\n",
       "    if (output.metadata[EXEC_MIME_TYPE][\"server_id\"] !== undefined) {\n",
       "      var bk_div = document.createElement(\"div\");\n",
       "      bk_div.innerHTML = output.data[HTML_MIME_TYPE];\n",
       "      var script_attrs = bk_div.children[0].attributes;\n",
       "      for (var i = 0; i < script_attrs.length; i++) {\n",
       "        toinsert[toinsert.length - 1].firstChild.setAttribute(script_attrs[i].name, script_attrs[i].value);\n",
       "      }\n",
       "      // store reference to server id on output_area\n",
       "      output_area._bokeh_server_id = output.metadata[EXEC_MIME_TYPE][\"server_id\"];\n",
       "    }\n",
       "  }\n",
       "\n",
       "  function register_renderer(events, OutputArea) {\n",
       "\n",
       "    function append_mime(data, metadata, element) {\n",
       "      // create a DOM node to render to\n",
       "      var toinsert = this.create_output_subarea(\n",
       "        metadata,\n",
       "        CLASS_NAME,\n",
       "        EXEC_MIME_TYPE\n",
       "      );\n",
       "      this.keyboard_manager.register_events(toinsert);\n",
       "      // Render to node\n",
       "      var props = {data: data, metadata: metadata[EXEC_MIME_TYPE]};\n",
       "      render(props, toinsert[toinsert.length - 1]);\n",
       "      element.append(toinsert);\n",
       "      return toinsert\n",
       "    }\n",
       "\n",
       "    /* Handle when an output is cleared or removed */\n",
       "    events.on('clear_output.CodeCell', handleClearOutput);\n",
       "    events.on('delete.Cell', handleClearOutput);\n",
       "\n",
       "    /* Handle when a new output is added */\n",
       "    events.on('output_added.OutputArea', handleAddOutput);\n",
       "\n",
       "    /**\n",
       "     * Register the mime type and append_mime function with output_area\n",
       "     */\n",
       "    OutputArea.prototype.register_mime_type(EXEC_MIME_TYPE, append_mime, {\n",
       "      /* Is output safe? */\n",
       "      safe: true,\n",
       "      /* Index of renderer in `output_area.display_order` */\n",
       "      index: 0\n",
       "    });\n",
       "  }\n",
       "\n",
       "  // register the mime type if in Jupyter Notebook environment and previously unregistered\n",
       "  if (root.Jupyter !== undefined) {\n",
       "    var events = require('base/js/events');\n",
       "    var OutputArea = require('notebook/js/outputarea').OutputArea;\n",
       "\n",
       "    if (OutputArea.prototype.mime_types().indexOf(EXEC_MIME_TYPE) == -1) {\n",
       "      register_renderer(events, OutputArea);\n",
       "    }\n",
       "  }\n",
       "\n",
       "  \n",
       "  if (typeof (root._bokeh_timeout) === \"undefined\" || force === true) {\n",
       "    root._bokeh_timeout = Date.now() + 5000;\n",
       "    root._bokeh_failed_load = false;\n",
       "  }\n",
       "\n",
       "  var NB_LOAD_WARNING = {'data': {'text/html':\n",
       "     \"<div style='background-color: #fdd'>\\n\"+\n",
       "     \"<p>\\n\"+\n",
       "     \"BokehJS does not appear to have successfully loaded. If loading BokehJS from CDN, this \\n\"+\n",
       "     \"may be due to a slow or bad network connection. Possible fixes:\\n\"+\n",
       "     \"</p>\\n\"+\n",
       "     \"<ul>\\n\"+\n",
       "     \"<li>re-rerun `output_notebook()` to attempt to load from CDN again, or</li>\\n\"+\n",
       "     \"<li>use INLINE resources instead, as so:</li>\\n\"+\n",
       "     \"</ul>\\n\"+\n",
       "     \"<code>\\n\"+\n",
       "     \"from bokeh.resources import INLINE\\n\"+\n",
       "     \"output_notebook(resources=INLINE)\\n\"+\n",
       "     \"</code>\\n\"+\n",
       "     \"</div>\"}};\n",
       "\n",
       "  function display_loaded() {\n",
       "    var el = document.getElementById(\"1001\");\n",
       "    if (el != null) {\n",
       "      el.textContent = \"BokehJS is loading...\";\n",
       "    }\n",
       "    if (root.Bokeh !== undefined) {\n",
       "      if (el != null) {\n",
       "        el.textContent = \"BokehJS \" + root.Bokeh.version + \" successfully loaded.\";\n",
       "      }\n",
       "    } else if (Date.now() < root._bokeh_timeout) {\n",
       "      setTimeout(display_loaded, 100)\n",
       "    }\n",
       "  }\n",
       "\n",
       "\n",
       "  function run_callbacks() {\n",
       "    try {\n",
       "      root._bokeh_onload_callbacks.forEach(function(callback) { callback() });\n",
       "    }\n",
       "    finally {\n",
       "      delete root._bokeh_onload_callbacks\n",
       "    }\n",
       "    console.info(\"Bokeh: all callbacks have finished\");\n",
       "  }\n",
       "\n",
       "  function load_libs(js_urls, callback) {\n",
       "    root._bokeh_onload_callbacks.push(callback);\n",
       "    if (root._bokeh_is_loading > 0) {\n",
       "      console.log(\"Bokeh: BokehJS is being loaded, scheduling callback at\", now());\n",
       "      return null;\n",
       "    }\n",
       "    if (js_urls == null || js_urls.length === 0) {\n",
       "      run_callbacks();\n",
       "      return null;\n",
       "    }\n",
       "    console.log(\"Bokeh: BokehJS not loaded, scheduling load and callback at\", now());\n",
       "    root._bokeh_is_loading = js_urls.length;\n",
       "    for (var i = 0; i < js_urls.length; i++) {\n",
       "      var url = js_urls[i];\n",
       "      var s = document.createElement('script');\n",
       "      s.src = url;\n",
       "      s.async = false;\n",
       "      s.onreadystatechange = s.onload = function() {\n",
       "        root._bokeh_is_loading--;\n",
       "        if (root._bokeh_is_loading === 0) {\n",
       "          console.log(\"Bokeh: all BokehJS libraries loaded\");\n",
       "          run_callbacks()\n",
       "        }\n",
       "      };\n",
       "      s.onerror = function() {\n",
       "        console.warn(\"failed to load library \" + url);\n",
       "      };\n",
       "      console.log(\"Bokeh: injecting script tag for BokehJS library: \", url);\n",
       "      document.getElementsByTagName(\"head\")[0].appendChild(s);\n",
       "    }\n",
       "  };var element = document.getElementById(\"1001\");\n",
       "  if (element == null) {\n",
       "    console.log(\"Bokeh: ERROR: autoload.js configured with elementid '1001' but no matching script tag was found. \")\n",
       "    return false;\n",
       "  }\n",
       "\n",
       "  var js_urls = [\"https://cdn.pydata.org/bokeh/release/bokeh-1.0.2.min.js\", \"https://cdn.pydata.org/bokeh/release/bokeh-widgets-1.0.2.min.js\", \"https://cdn.pydata.org/bokeh/release/bokeh-tables-1.0.2.min.js\", \"https://cdn.pydata.org/bokeh/release/bokeh-gl-1.0.2.min.js\"];\n",
       "\n",
       "  var inline_js = [\n",
       "    function(Bokeh) {\n",
       "      Bokeh.set_log_level(\"info\");\n",
       "    },\n",
       "    \n",
       "    function(Bokeh) {\n",
       "      \n",
       "    },\n",
       "    function(Bokeh) {\n",
       "      console.log(\"Bokeh: injecting CSS: https://cdn.pydata.org/bokeh/release/bokeh-1.0.2.min.css\");\n",
       "      Bokeh.embed.inject_css(\"https://cdn.pydata.org/bokeh/release/bokeh-1.0.2.min.css\");\n",
       "      console.log(\"Bokeh: injecting CSS: https://cdn.pydata.org/bokeh/release/bokeh-widgets-1.0.2.min.css\");\n",
       "      Bokeh.embed.inject_css(\"https://cdn.pydata.org/bokeh/release/bokeh-widgets-1.0.2.min.css\");\n",
       "      console.log(\"Bokeh: injecting CSS: https://cdn.pydata.org/bokeh/release/bokeh-tables-1.0.2.min.css\");\n",
       "      Bokeh.embed.inject_css(\"https://cdn.pydata.org/bokeh/release/bokeh-tables-1.0.2.min.css\");\n",
       "    }\n",
       "  ];\n",
       "\n",
       "  function run_inline_js() {\n",
       "    \n",
       "    if ((root.Bokeh !== undefined) || (force === true)) {\n",
       "      for (var i = 0; i < inline_js.length; i++) {\n",
       "        inline_js[i].call(root, root.Bokeh);\n",
       "      }if (force === true) {\n",
       "        display_loaded();\n",
       "      }} else if (Date.now() < root._bokeh_timeout) {\n",
       "      setTimeout(run_inline_js, 100);\n",
       "    } else if (!root._bokeh_failed_load) {\n",
       "      console.log(\"Bokeh: BokehJS failed to load within specified timeout.\");\n",
       "      root._bokeh_failed_load = true;\n",
       "    } else if (force !== true) {\n",
       "      var cell = $(document.getElementById(\"1001\")).parents('.cell').data().cell;\n",
       "      cell.output_area.append_execute_result(NB_LOAD_WARNING)\n",
       "    }\n",
       "\n",
       "  }\n",
       "\n",
       "  if (root._bokeh_is_loading === 0) {\n",
       "    console.log(\"Bokeh: BokehJS loaded, going straight to plotting\");\n",
       "    run_inline_js();\n",
       "  } else {\n",
       "    load_libs(js_urls, function() {\n",
       "      console.log(\"Bokeh: BokehJS plotting callback run at\", now());\n",
       "      run_inline_js();\n",
       "    });\n",
       "  }\n",
       "}(window));"
      ],
      "application/vnd.bokehjs_load.v0+json": "\n(function(root) {\n  function now() {\n    return new Date();\n  }\n\n  var force = true;\n\n  if (typeof (root._bokeh_onload_callbacks) === \"undefined\" || force === true) {\n    root._bokeh_onload_callbacks = [];\n    root._bokeh_is_loading = undefined;\n  }\n\n  \n\n  \n  if (typeof (root._bokeh_timeout) === \"undefined\" || force === true) {\n    root._bokeh_timeout = Date.now() + 5000;\n    root._bokeh_failed_load = false;\n  }\n\n  var NB_LOAD_WARNING = {'data': {'text/html':\n     \"<div style='background-color: #fdd'>\\n\"+\n     \"<p>\\n\"+\n     \"BokehJS does not appear to have successfully loaded. If loading BokehJS from CDN, this \\n\"+\n     \"may be due to a slow or bad network connection. Possible fixes:\\n\"+\n     \"</p>\\n\"+\n     \"<ul>\\n\"+\n     \"<li>re-rerun `output_notebook()` to attempt to load from CDN again, or</li>\\n\"+\n     \"<li>use INLINE resources instead, as so:</li>\\n\"+\n     \"</ul>\\n\"+\n     \"<code>\\n\"+\n     \"from bokeh.resources import INLINE\\n\"+\n     \"output_notebook(resources=INLINE)\\n\"+\n     \"</code>\\n\"+\n     \"</div>\"}};\n\n  function display_loaded() {\n    var el = document.getElementById(\"1001\");\n    if (el != null) {\n      el.textContent = \"BokehJS is loading...\";\n    }\n    if (root.Bokeh !== undefined) {\n      if (el != null) {\n        el.textContent = \"BokehJS \" + root.Bokeh.version + \" successfully loaded.\";\n      }\n    } else if (Date.now() < root._bokeh_timeout) {\n      setTimeout(display_loaded, 100)\n    }\n  }\n\n\n  function run_callbacks() {\n    try {\n      root._bokeh_onload_callbacks.forEach(function(callback) { callback() });\n    }\n    finally {\n      delete root._bokeh_onload_callbacks\n    }\n    console.info(\"Bokeh: all callbacks have finished\");\n  }\n\n  function load_libs(js_urls, callback) {\n    root._bokeh_onload_callbacks.push(callback);\n    if (root._bokeh_is_loading > 0) {\n      console.log(\"Bokeh: BokehJS is being loaded, scheduling callback at\", now());\n      return null;\n    }\n    if (js_urls == null || js_urls.length === 0) {\n      run_callbacks();\n      return null;\n    }\n    console.log(\"Bokeh: BokehJS not loaded, scheduling load and callback at\", now());\n    root._bokeh_is_loading = js_urls.length;\n    for (var i = 0; i < js_urls.length; i++) {\n      var url = js_urls[i];\n      var s = document.createElement('script');\n      s.src = url;\n      s.async = false;\n      s.onreadystatechange = s.onload = function() {\n        root._bokeh_is_loading--;\n        if (root._bokeh_is_loading === 0) {\n          console.log(\"Bokeh: all BokehJS libraries loaded\");\n          run_callbacks()\n        }\n      };\n      s.onerror = function() {\n        console.warn(\"failed to load library \" + url);\n      };\n      console.log(\"Bokeh: injecting script tag for BokehJS library: \", url);\n      document.getElementsByTagName(\"head\")[0].appendChild(s);\n    }\n  };var element = document.getElementById(\"1001\");\n  if (element == null) {\n    console.log(\"Bokeh: ERROR: autoload.js configured with elementid '1001' but no matching script tag was found. \")\n    return false;\n  }\n\n  var js_urls = [\"https://cdn.pydata.org/bokeh/release/bokeh-1.0.2.min.js\", \"https://cdn.pydata.org/bokeh/release/bokeh-widgets-1.0.2.min.js\", \"https://cdn.pydata.org/bokeh/release/bokeh-tables-1.0.2.min.js\", \"https://cdn.pydata.org/bokeh/release/bokeh-gl-1.0.2.min.js\"];\n\n  var inline_js = [\n    function(Bokeh) {\n      Bokeh.set_log_level(\"info\");\n    },\n    \n    function(Bokeh) {\n      \n    },\n    function(Bokeh) {\n      console.log(\"Bokeh: injecting CSS: https://cdn.pydata.org/bokeh/release/bokeh-1.0.2.min.css\");\n      Bokeh.embed.inject_css(\"https://cdn.pydata.org/bokeh/release/bokeh-1.0.2.min.css\");\n      console.log(\"Bokeh: injecting CSS: https://cdn.pydata.org/bokeh/release/bokeh-widgets-1.0.2.min.css\");\n      Bokeh.embed.inject_css(\"https://cdn.pydata.org/bokeh/release/bokeh-widgets-1.0.2.min.css\");\n      console.log(\"Bokeh: injecting CSS: https://cdn.pydata.org/bokeh/release/bokeh-tables-1.0.2.min.css\");\n      Bokeh.embed.inject_css(\"https://cdn.pydata.org/bokeh/release/bokeh-tables-1.0.2.min.css\");\n    }\n  ];\n\n  function run_inline_js() {\n    \n    if ((root.Bokeh !== undefined) || (force === true)) {\n      for (var i = 0; i < inline_js.length; i++) {\n        inline_js[i].call(root, root.Bokeh);\n      }if (force === true) {\n        display_loaded();\n      }} else if (Date.now() < root._bokeh_timeout) {\n      setTimeout(run_inline_js, 100);\n    } else if (!root._bokeh_failed_load) {\n      console.log(\"Bokeh: BokehJS failed to load within specified timeout.\");\n      root._bokeh_failed_load = true;\n    } else if (force !== true) {\n      var cell = $(document.getElementById(\"1001\")).parents('.cell').data().cell;\n      cell.output_area.append_execute_result(NB_LOAD_WARNING)\n    }\n\n  }\n\n  if (root._bokeh_is_loading === 0) {\n    console.log(\"Bokeh: BokehJS loaded, going straight to plotting\");\n    run_inline_js();\n  } else {\n    load_libs(js_urls, function() {\n      console.log(\"Bokeh: BokehJS plotting callback run at\", now());\n      run_inline_js();\n    });\n  }\n}(window));"
     },
     "metadata": {},
     "output_type": "display_data"
    }
   ],
   "source": [
    "import numpy as np\n",
    "import factories\n",
    "import ppf\n",
    "\n",
    "import ipywidgets as widgets\n",
    "from ipywidgets import interact, interact_manual"
   ]
  },
  {
   "cell_type": "code",
   "execution_count": 7,
   "metadata": {},
   "outputs": [],
   "source": [
    "\n",
    "labor_stock=3\n",
    "between_steps=100 #the interval will be 1/between_steps\n",
    "factoryX=factories.factory(.5,1)\n",
    "factoryY=factories.factory(.5,2)"
   ]
  },
  {
   "cell_type": "code",
   "execution_count": 8,
   "metadata": {
    "scrolled": true
   },
   "outputs": [
    {
     "data": {
      "text/html": [
       "\n",
       "\n",
       "\n",
       "\n",
       "\n",
       "\n",
       "  <div class=\"bk-root\" id=\"3839d77d-1a69-4d8b-b098-0451593d985b\"></div>\n"
      ]
     },
     "metadata": {},
     "output_type": "display_data"
    },
    {
     "data": {
      "application/javascript": [
       "(function(root) {\n",
       "  function embed_document(root) {\n",
       "    \n",
       "  var docs_json = {\"87480a1d-213b-4291-8022-11cb8e163ece\":{\"roots\":{\"references\":[{\"attributes\":{\"below\":[{\"id\":\"1558\",\"type\":\"LinearAxis\"}],\"left\":[{\"id\":\"1563\",\"type\":\"LinearAxis\"}],\"plot_height\":500,\"plot_width\":500,\"renderers\":[{\"id\":\"1558\",\"type\":\"LinearAxis\"},{\"id\":\"1562\",\"type\":\"Grid\"},{\"id\":\"1563\",\"type\":\"LinearAxis\"},{\"id\":\"1567\",\"type\":\"Grid\"},{\"id\":\"1571\",\"type\":\"BoxAnnotation\"},{\"id\":\"1574\",\"type\":\"PolyAnnotation\"},{\"id\":\"1582\",\"type\":\"GlyphRenderer\"}],\"title\":{\"id\":\"1547\",\"type\":\"Title\"},\"toolbar\":{\"id\":\"1573\",\"type\":\"Toolbar\"},\"x_range\":{\"id\":\"1550\",\"type\":\"DataRange1d\"},\"x_scale\":{\"id\":\"1554\",\"type\":\"LinearScale\"},\"y_range\":{\"id\":\"1552\",\"type\":\"DataRange1d\"},\"y_scale\":{\"id\":\"1556\",\"type\":\"LinearScale\"}},\"id\":\"1548\",\"subtype\":\"Figure\",\"type\":\"Plot\"},{\"attributes\":{},\"id\":\"1701\",\"type\":\"BasicTickFormatter\"},{\"attributes\":{\"callback\":null,\"data\":{\"Lx\":{\"__ndarray__\":\"AAAAAAAAAAB7FK5H4XqEP3sUrkfhepQ/uB6F61G4nj97FK5H4XqkP5qZmZmZmak/uB6F61G4rj/sUbgeheuxP3sUrkfherQ/CtejcD0Ktz+amZmZmZm5Pylcj8L1KLw/uB6F61G4vj+kcD0K16PAP+xRuB6F68E/MzMzMzMzwz97FK5H4XrEP8P1KFyPwsU/CtejcD0Kxz9SuB6F61HIP5qZmZmZmck/4XoUrkfhyj8pXI/C9SjMP3E9CtejcM0/uB6F61G4zj8AAAAAAADQP6RwPQrXo9A/SOF6FK5H0T/sUbgehevRP4/C9Shcj9I/MzMzMzMz0z/Xo3A9CtfTP3sUrkfhetQ/H4XrUbge1T/D9Shcj8LVP2dmZmZmZtY/CtejcD0K1z+uR+F6FK7XP1K4HoXrUdg/9ihcj8L12D+amZmZmZnZPz4K16NwPdo/4XoUrkfh2j+F61G4HoXbPylcj8L1KNw/zczMzMzM3D9xPQrXo3DdPxWuR+F6FN4/uB6F61G43j9cj8L1KFzfPwAAAAAAAOA/UrgehetR4D+kcD0K16PgP/YoXI/C9eA/SOF6FK5H4T+amZmZmZnhP+xRuB6F6+E/PgrXo3A94j+PwvUoXI/iP+F6FK5H4eI/MzMzMzMz4z+F61G4HoXjP9ejcD0K1+M/KVyPwvUo5D97FK5H4XrkP83MzMzMzOQ/H4XrUbge5T9xPQrXo3DlP8P1KFyPwuU/Fa5H4XoU5j9nZmZmZmbmP7gehetRuOY/CtejcD0K5z9cj8L1KFznP65H4XoUruc/AAAAAAAA6D9SuB6F61HoP6RwPQrXo+g/9ihcj8L16D9I4XoUrkfpP5qZmZmZmek/7FG4HoXr6T8+CtejcD3qP5DC9Shcj+o/4XoUrkfh6j8zMzMzMzPrP4XrUbgehes/16NwPQrX6z8pXI/C9SjsP3sUrkfheuw/zczMzMzM7D8fhetRuB7tP3E9CtejcO0/w/UoXI/C7T8VrkfhehTuP2dmZmZmZu4/uB6F61G47j8K16NwPQrvP1yPwvUoXO8/rkfhehSu7z8AAAAAAADwPylcj8L1KPA/UrgehetR8D97FK5H4XrwP6RwPQrXo/A/zczMzMzM8D/2KFyPwvXwPx+F61G4HvE/SOF6FK5H8T9xPQrXo3DxP5qZmZmZmfE/w/UoXI/C8T/sUbgehevxPxWuR+F6FPI/PgrXo3A98j9nZmZmZmbyP4/C9Shcj/I/uB6F61G48j/hehSuR+HyPwrXo3A9CvM/MzMzMzMz8z9cj8L1KFzzP4XrUbgehfM/rkfhehSu8z/Xo3A9CtfzPwAAAAAAAPQ/KVyPwvUo9D9SuB6F61H0P3sUrkfhevQ/pHA9Ctej9D/NzMzMzMz0P/YoXI/C9fQ/H4XrUbge9T9I4XoUrkf1P3E9CtejcPU/mpmZmZmZ9T/D9Shcj8L1P+xRuB6F6/U/Fa5H4XoU9j8+CtejcD32P2dmZmZmZvY/j8L1KFyP9j+4HoXrUbj2P+F6FK5H4fY/CtejcD0K9z8zMzMzMzP3P1yPwvUoXPc/hetRuB6F9z+uR+F6FK73P9ejcD0K1/c/AAAAAAAA+D8pXI/C9Sj4P1K4HoXrUfg/exSuR+F6+D+kcD0K16P4P83MzMzMzPg/9ihcj8L1+D8fhetRuB75P0jhehSuR/k/cT0K16Nw+T+amZmZmZn5P8P1KFyPwvk/7FG4HoXr+T8VrkfhehT6Pz4K16NwPfo/Z2ZmZmZm+j+QwvUoXI/6P7gehetRuPo/4XoUrkfh+j8K16NwPQr7PzMzMzMzM/s/XI/C9Shc+z+F61G4HoX7P65H4XoUrvs/16NwPQrX+z8AAAAAAAD8Pylcj8L1KPw/UrgehetR/D97FK5H4Xr8P6RwPQrXo/w/zczMzMzM/D/2KFyPwvX8Px+F61G4Hv0/SOF6FK5H/T9xPQrXo3D9P5qZmZmZmf0/w/UoXI/C/T/sUbgehev9PxWuR+F6FP4/PgrXo3A9/j9nZmZmZmb+P5DC9Shcj/4/uB6F61G4/j/hehSuR+H+PwrXo3A9Cv8/MzMzMzMz/z9cj8L1KFz/P4XrUbgehf8/rkfhehSu/z/Xo3A9Ctf/PwAAAAAAAABAFa5H4XoUAEApXI/C9SgAQD4K16NwPQBAUrgehetRAEBmZmZmZmYAQHsUrkfhegBAj8L1KFyPAECkcD0K16MAQLgehetRuABAzczMzMzMAEDhehSuR+EAQPYoXI/C9QBACtejcD0KAUAfhetRuB4BQDMzMzMzMwFASOF6FK5HAUBcj8L1KFwBQHE9CtejcAFAhetRuB6FAUCamZmZmZkBQK5H4XoUrgFAw/UoXI/CAUDXo3A9CtcBQOxRuB6F6wFAAAAAAAAAAkAVrkfhehQCQClcj8L1KAJAPgrXo3A9AkBSuB6F61ECQGdmZmZmZgJAexSuR+F6AkCPwvUoXI8CQKRwPQrXowJAuB6F61G4AkDNzMzMzMwCQOF6FK5H4QJA9ihcj8L1AkAK16NwPQoDQB+F61G4HgNAMzMzMzMzA0BI4XoUrkcDQFyPwvUoXANAcT0K16NwA0CF61G4HoUDQJqZmZmZmQNArkfhehSuA0DD9Shcj8IDQNejcD0K1wNA7FG4HoXrA0AAAAAAAAAEQBWuR+F6FARAKVyPwvUoBEA+CtejcD0EQFK4HoXrUQRAZ2ZmZmZmBEB7FK5H4XoEQI/C9ShcjwRApHA9CtejBEC4HoXrUbgEQM3MzMzMzARA4XoUrkfhBED2KFyPwvUEQArXo3A9CgVAH4XrUbgeBUAzMzMzMzMFQEjhehSuRwVAXI/C9ShcBUBxPQrXo3AFQIXrUbgehQVAmpmZmZmZBUCuR+F6FK4FQMP1KFyPwgVA16NwPQrXBUDsUbgehesFQAAAAAAAAAZAFa5H4XoUBkApXI/C9SgGQD4K16NwPQZAUrgehetRBkBnZmZmZmYGQHsUrkfhegZAj8L1KFyPBkCkcD0K16MGQLgehetRuAZAzczMzMzMBkDhehSuR+EGQPYoXI/C9QZACtejcD0KB0AfhetRuB4HQDMzMzMzMwdASOF6FK5HB0Bcj8L1KFwHQHE9CtejcAdAhetRuB6FB0CamZmZmZkHQK5H4XoUrgdAw/UoXI/CB0DXo3A9CtcHQOxRuB6F6wdAAAAAAAAACEA=\",\"dtype\":\"float64\",\"shape\":[301]},\"Ly\":{\"__ndarray__\":\"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\",\"dtype\":\"float64\",\"shape\":[301]},\"Qx\":{\"__ndarray__\":\"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\",\"dtype\":\"float64\",\"shape\":[301]},\"Qy\":{\"__ndarray__\":\"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\",\"dtype\":\"float64\",\"shape\":[301]}},\"selected\":{\"id\":\"1704\",\"type\":\"Selection\"},\"selection_policy\":{\"id\":\"1705\",\"type\":\"UnionRenderers\"}},\"id\":\"1546\",\"type\":\"ColumnDataSource\"},{\"attributes\":{},\"id\":\"1703\",\"type\":\"BasicTickFormatter\"},{\"attributes\":{\"fill_alpha\":{\"value\":0.5},\"fill_color\":{\"value\":\"lightgrey\"},\"level\":\"overlay\",\"line_alpha\":{\"value\":1.0},\"line_color\":{\"value\":\"black\"},\"line_dash\":[4,4],\"line_width\":{\"value\":2},\"plot\":null,\"xs_units\":\"screen\",\"ys_units\":\"screen\"},\"id\":\"1574\",\"type\":\"PolyAnnotation\"},{\"attributes\":{},\"id\":\"1704\",\"type\":\"Selection\"},{\"attributes\":{\"callback\":null},\"id\":\"1550\",\"type\":\"DataRange1d\"},{\"attributes\":{},\"id\":\"1705\",\"type\":\"UnionRenderers\"},{\"attributes\":{\"axis_label\":\"Qx\",\"formatter\":{\"id\":\"1701\",\"type\":\"BasicTickFormatter\"},\"plot\":{\"id\":\"1548\",\"subtype\":\"Figure\",\"type\":\"Plot\"},\"ticker\":{\"id\":\"1559\",\"type\":\"BasicTicker\"}},\"id\":\"1558\",\"type\":\"LinearAxis\"},{\"attributes\":{},\"id\":\"1556\",\"type\":\"LinearScale\"},{\"attributes\":{\"data_source\":{\"id\":\"1546\",\"type\":\"ColumnDataSource\"},\"glyph\":{\"id\":\"1580\",\"type\":\"Circle\"},\"hover_glyph\":null,\"muted_glyph\":null,\"nonselection_glyph\":{\"id\":\"1581\",\"type\":\"Circle\"},\"selection_glyph\":null,\"view\":{\"id\":\"1583\",\"type\":\"CDSView\"}},\"id\":\"1582\",\"type\":\"GlyphRenderer\"},{\"attributes\":{},\"id\":\"1554\",\"type\":\"LinearScale\"},{\"attributes\":{\"callback\":null},\"id\":\"1552\",\"type\":\"DataRange1d\"},{\"attributes\":{\"active_drag\":\"auto\",\"active_inspect\":\"auto\",\"active_multi\":null,\"active_scroll\":\"auto\",\"active_tap\":\"auto\",\"tools\":[{\"id\":\"1568\",\"type\":\"BoxSelectTool\"},{\"id\":\"1569\",\"type\":\"LassoSelectTool\"},{\"id\":\"1570\",\"type\":\"HelpTool\"}]},\"id\":\"1573\",\"type\":\"Toolbar\"},{\"attributes\":{\"axis_label\":\"QY\",\"formatter\":{\"id\":\"1703\",\"type\":\"BasicTickFormatter\"},\"plot\":{\"id\":\"1548\",\"subtype\":\"Figure\",\"type\":\"Plot\"},\"ticker\":{\"id\":\"1564\",\"type\":\"BasicTicker\"}},\"id\":\"1563\",\"type\":\"LinearAxis\"},{\"attributes\":{\"plot\":null,\"text\":\"PPF\"},\"id\":\"1547\",\"type\":\"Title\"},{\"attributes\":{\"plot\":{\"id\":\"1548\",\"subtype\":\"Figure\",\"type\":\"Plot\"},\"ticker\":{\"id\":\"1559\",\"type\":\"BasicTicker\"}},\"id\":\"1562\",\"type\":\"Grid\"},{\"attributes\":{\"fill_alpha\":{\"value\":0.1},\"fill_color\":{\"value\":\"#1f77b4\"},\"line_alpha\":{\"value\":0.1},\"line_color\":{\"value\":\"#1f77b4\"},\"x\":{\"field\":\"Qx\"},\"y\":{\"field\":\"Qy\"}},\"id\":\"1581\",\"type\":\"Circle\"},{\"attributes\":{},\"id\":\"1559\",\"type\":\"BasicTicker\"},{\"attributes\":{\"dimension\":1,\"plot\":{\"id\":\"1548\",\"subtype\":\"Figure\",\"type\":\"Plot\"},\"ticker\":{\"id\":\"1564\",\"type\":\"BasicTicker\"}},\"id\":\"1567\",\"type\":\"Grid\"},{\"attributes\":{\"source\":{\"id\":\"1546\",\"type\":\"ColumnDataSource\"}},\"id\":\"1583\",\"type\":\"CDSView\"},{\"attributes\":{\"bottom_units\":\"screen\",\"fill_alpha\":{\"value\":0.5},\"fill_color\":{\"value\":\"lightgrey\"},\"left_units\":\"screen\",\"level\":\"overlay\",\"line_alpha\":{\"value\":1.0},\"line_color\":{\"value\":\"black\"},\"line_dash\":[4,4],\"line_width\":{\"value\":2},\"plot\":null,\"render_mode\":\"css\",\"right_units\":\"screen\",\"top_units\":\"screen\"},\"id\":\"1571\",\"type\":\"BoxAnnotation\"},{\"attributes\":{\"callback\":null,\"overlay\":{\"id\":\"1571\",\"type\":\"BoxAnnotation\"}},\"id\":\"1568\",\"type\":\"BoxSelectTool\"},{\"attributes\":{},\"id\":\"1564\",\"type\":\"BasicTicker\"},{\"attributes\":{\"fill_color\":{\"value\":\"#1f77b4\"},\"line_color\":{\"value\":\"#1f77b4\"},\"x\":{\"field\":\"Qx\"},\"y\":{\"field\":\"Qy\"}},\"id\":\"1580\",\"type\":\"Circle\"},{\"attributes\":{},\"id\":\"1570\",\"type\":\"HelpTool\"},{\"attributes\":{\"callback\":null,\"overlay\":{\"id\":\"1574\",\"type\":\"PolyAnnotation\"}},\"id\":\"1569\",\"type\":\"LassoSelectTool\"}],\"root_ids\":[\"1548\"]},\"title\":\"Bokeh Application\",\"version\":\"1.0.2\"}};\n",
       "  var render_items = [{\"docid\":\"87480a1d-213b-4291-8022-11cb8e163ece\",\"roots\":{\"1548\":\"3839d77d-1a69-4d8b-b098-0451593d985b\"}}];\n",
       "  root.Bokeh.embed.embed_items_notebook(docs_json, render_items);\n",
       "\n",
       "  }\n",
       "  if (root.Bokeh !== undefined) {\n",
       "    embed_document(root);\n",
       "  } else {\n",
       "    var attempts = 0;\n",
       "    var timer = setInterval(function(root) {\n",
       "      if (root.Bokeh !== undefined) {\n",
       "        embed_document(root);\n",
       "        clearInterval(timer);\n",
       "      }\n",
       "      attempts++;\n",
       "      if (attempts > 100) {\n",
       "        console.log(\"Bokeh: ERROR: Unable to run BokehJS code because BokehJS library is missing\");\n",
       "        clearInterval(timer);\n",
       "      }\n",
       "    }, 10, root)\n",
       "  }\n",
       "})(window);"
      ],
      "application/vnd.bokehjs_exec.v0+json": ""
     },
     "metadata": {
      "application/vnd.bokehjs_exec.v0+json": {
       "id": "1548"
      }
     },
     "output_type": "display_data"
    }
   ],
   "source": [
    "XYppf=ppf.ppf(factoryX,factoryY, labor_stock, between_steps)\n",
    "XYppf.ppfplot()"
   ]
  },
  {
   "cell_type": "code",
   "execution_count": 9,
   "metadata": {
    "scrolled": true
   },
   "outputs": [
    {
     "data": {
      "text/html": [
       "\n",
       "\n",
       "\n",
       "\n",
       "\n",
       "\n",
       "  <div class=\"bk-root\" id=\"c0611fc0-cd33-4e23-b64c-6b2f02761554\"></div>\n"
      ]
     },
     "metadata": {},
     "output_type": "display_data"
    },
    {
     "data": {
      "application/javascript": [
       "(function(root) {\n",
       "  function embed_document(root) {\n",
       "    \n",
       "  var docs_json = {\"6b97d818-ee51-4212-b714-fa2d82295c00\":{\"roots\":{\"references\":[{\"attributes\":{\"children\":[{\"id\":\"1548\",\"subtype\":\"Figure\",\"type\":\"Plot\"},{\"id\":\"1762\",\"type\":\"Row\"}]},\"id\":\"1763\",\"type\":\"Column\"},{\"attributes\":{},\"id\":\"1701\",\"type\":\"BasicTickFormatter\"},{\"attributes\":{\"callback\":null,\"data\":{\"Lx\":{\"__ndarray__\":\"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\",\"dtype\":\"float64\",\"shape\":[301]},\"Ly\":{\"__ndarray__\":\"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\",\"dtype\":\"float64\",\"shape\":[301]},\"Qx\":{\"__ndarray__\":\"AAAAAAAAAACamZmZmZm5Pwpj/1EYGsI/IgqthpUrxj+amZmZmZnJP9ntv8Uln8w/Smjb7Hxazz9V+tuHzO7QPwpj/1EYGtI/MzMzMzMz0z8PSUhiEz3UP8MlMUP1OdU/IgqthpUr1j+Q4U3QVRPXPzvMudpU8tc/SHI/9H7J2D+amZmZmZnZP6Xhf9dLY9o/jxT/eiQn2z9aFjq6nuXbP9ntv8Uln9w/1TCIjhdU3T/YvVP1xgTeP/Fsvoh9sd4/Smjb7Hxa3z8AAAAAAADgP18mqOUdUeA/mscBJbCg4D9V+tuHzO7gP1yuIOqGO+E/coT4dPGG4T8DmyDRHNHhPwpj/1EYGuI/83O1GvJh4j+1Tyk+t6jiP1eb3Npz7uI/MzMzMzMz4z/HSbbC/3bjP66exVDjueM/CHYVAef74z8PSUhiEz3kP5pl5npwfeQ/6UHr1AW95D9NtBeI2vvkP8MlMUP1OeU/Y/JPVFx35T8cQFqwFbTlP1J2xPkm8OU/IgqthpUr5j9mZmZmZmbmP807f2aeoOY/cWlXF0La5j+Q4U3QVRPnPyFjkrPdS+c/OI6ksd2D5z+ttIiMWbvnPzvMudpU8uc/SgzfCdMo6D+MA0th117oP+NLSQRllOg/SHI/9H7J6D/tKaUSKP7oP3Vy1yJjMuk/f/fJyzJm6T+amZmZmZnpP4HEAv+ZzOk/RvO9Vjb/6T9Fh8TkcDHqP6Xhf9dLY+o/D4DkSMmU6j/4sno/68XqP29eVq+z9uo/jxT/eiQn6z+fukl0P1frP+POJF0Gh+s/qkxY6Hq26z9aFjq6nuXrP2u5V2lzFOw/bE4Wf/pC7D8aJ0l4NXHsP9ntv8Uln+w/zczMzMzM7D+gJsPnK/rsP0Bgb2ZEJ+0/1TCIjhdU7T8q5BmcpoDtP4bz68HyrO0/b1HhKf3Y7T/YvVP1xgTuPwJyaj1RMO4/lm1sE51b7j8SqQ6Bq4buP/Fsvoh9se4/ZwjoJRTc7j9wHjpNcAbvPza85eySMO8/Smjb7Hxa7z8EVwUvL4TvP1Ltfo+qre8/pbjJ5O/W7z8AAAAAAADwP/OHgtZtFPA/YrBZ2cEo8D+pWoRp/DzwP18mqOUdUfA/O6ElqiZl8D8GmisRF3nwPwaiyXLvjPA/mscBJbCg8D8slNl7WbTwP/ZWasnrx/A/gMXwXWfb8D9V+tuHzO7wP8XZ25MbAvE/SOTuzFQV8T96fW98eCjxP1yuIOqGO/E/K2k6XIBO8T+uVHUXZWHxP54kFl81dPE/coT4dPGG8T+amZmZmZnxP9MhIgwurPE/MTJwCq++8T8DmyDRHNHxP6j0l5t34/E/LFkLpL/18T9Azogj9QfyPwpj/1EYGvI/BgVHZiks8j8jDyiWKD7yP/eVYhYWUPI/83O1GvJh8j8oGOXVvHPyPzIawnl2hfI/tpUvNx+X8j+1Tyk+t6jyP+anyb0+uvI/NlhP5LXL8j9XBCPfHN3yP1eb3Npz7vI/AI1IA7v/8j+61GyD8hDzP53bjYUaIvM/MzMzMzMz8z+FKiy1PETzP70+lDM3VfM/3mjX1SJm8z/HSbbC/3bzP9I1SiDOh/M/LiEJFI6Y8z80bsnCP6nzP66exVDjufM/POmf4XjK8z+9s2WYANvzP8bzkpd66/M/CHYVAef78z+DDVD2RQz0P3GrHZiXHPQ/nmDUBtws9D8PSUhiEz30P6Nizsk9TfQ/a08/XFtd9D91BPo3bG30P5pl5npwffQ/C893QmiN9D8sja+rU530P05DH9MyrfQ/6UHr1AW99D/NzMzMzMz0P9pRFNaH3PQ/xJCrCzfs9D9NtBeI2vv0P35de2VyC/U/RaGYvf4a9T/q+NKpfyr1P8MlMUP1OfU/lwhfol9J9T/5bK/fvlj1Px7JHRMTaPU/Y/JPVFx39T/3xpe6mob1P/LM9FzOlfU/K8cVUvek9T8cQFqwFbT1PyUL1I0pw/U/brxIADPS9T+2FzMdMuH1P1J2xPkm8PU/oCTmqhH/9T8ktzpF8g32P5dXH93IHPY/IgqthpUr9j/76rlVWDr2P5Zk2l0RSfY/tF5issBX9j9mZmZmZmb2P1TPvIwCdfY/Ys7+N5WD9j/tjYl6HpL2P807f2aeoPY/QxHIDRWv9j//VBOCgr32P3FX2NTmy/Y/cWlXF0La9j+SzZpalOj2PxOkd6/d9vY/tNGOJh4F9z+Q4U3QVRP3PwDi77yEIfc/1zx+/Kov9z/qitGeyD33PyFjkrPdS/c/HyU6SupZ9z+ovxNy7mf3P9JyPDrqdfc/OI6ksd2D9z8mKxDnyJH3P/XiF+mrn/c/n4Epxoat9z+ttIiMWbv3P4y2T0okyfc/bfZvDefW9z+6vLLjoeT3PzvMudpU8vc/AAAAAAAA+D8m5tlgow34P4BXdgo/G/g/SgzfCdMo+D/iLflrXzb4P7LlhT3kQ/g/Pukii2FR+D+MA0th1174P9GbVsxFbPg/jjl82Kx5+D8jBtGRDIf4P+NLSQRllPg/w/K4O7ah+D+j+tNDAK/4P1PzLihDvPg/SHI/9H7J+D8phlyzs9b4Py4ov3Dh4/g/ZquCNwjx+D/tKaUSKP74Px7wBw1BC/k/0OVvMVMY+T+k9YWKXiX5P3Vy1yJjMvk/7XrWBGE/+T9TW9o6WEz5P4/tH89IWfk/f/fJyzJm+T+Yh+E6FnP5P95PVibzf/k/Tf/+l8mM+T+amZmZmZn5P3/NyzRjpvk/eEkjcyaz+T8FDxZe47/5P4HEAv+ZzPk/igUxX0rZ+T8MstGH9OX5P+Y7/4GY8vk/RvO9Vjb/+T+zUfwOzgv6P9RDk7NfGPo/8HFGTesk+j9Fh8TkcDH6Pxd4p4LwPfo/rMZ0L2pK+j8Jx53z3Vb6P6Xhf9dLY/o/8tRk47Nv+j/d9YIfFnz6PzRv/ZNyiPo/D4DkSMmU+j8ouTVGGqH6P0E53JNlrfo/hOiwOau5+j/4sno/68X6P/zB7qwl0vo/4rSwiVre+j+W2FLdier6P29eVq+z9vo/G5IrB9gC+z+tDjLs9g77P+PyuGUQG/s/jxT/eiQn+z8zMzMzMzP7P9opdJU8P/s/JyDRqEBL+z+fukl0P1f7Pz1Kzv44Y/s/Qfs/Ty1v+z9SA3FsHHv7P+POJF0Gh/s/7S0QKOuS+z/4f9nTyp77P4DfGGelqvs/qkxY6Hq2+z8=\",\"dtype\":\"float64\",\"shape\":[301]},\"Qy\":{\"__ndarray__\":\"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\",\"dtype\":\"float64\",\"shape\":[301]}},\"selected\":{\"id\":\"1704\",\"type\":\"Selection\"},\"selection_policy\":{\"id\":\"1705\",\"type\":\"UnionRenderers\"}},\"id\":\"1546\",\"type\":\"ColumnDataSource\"},{\"attributes\":{\"axis_label\":\"L to X\",\"formatter\":{\"id\":\"1826\",\"type\":\"BasicTickFormatter\"},\"plot\":{\"id\":\"1585\",\"subtype\":\"Figure\",\"type\":\"Plot\"},\"ticker\":{\"id\":\"1596\",\"type\":\"BasicTicker\"}},\"id\":\"1595\",\"type\":\"LinearAxis\"},{\"attributes\":{},\"id\":\"1596\",\"type\":\"BasicTicker\"},{\"attributes\":{},\"id\":\"1703\",\"type\":\"BasicTickFormatter\"},{\"attributes\":{\"plot\":{\"id\":\"1585\",\"subtype\":\"Figure\",\"type\":\"Plot\"},\"ticker\":{\"id\":\"1596\",\"type\":\"BasicTicker\"}},\"id\":\"1599\",\"type\":\"Grid\"},{\"attributes\":{\"fill_alpha\":{\"value\":0.5},\"fill_color\":{\"value\":\"lightgrey\"},\"level\":\"overlay\",\"line_alpha\":{\"value\":1.0},\"line_color\":{\"value\":\"black\"},\"line_dash\":[4,4],\"line_width\":{\"value\":2},\"plot\":null,\"xs_units\":\"screen\",\"ys_units\":\"screen\"},\"id\":\"1574\",\"type\":\"PolyAnnotation\"},{\"attributes\":{},\"id\":\"1704\",\"type\":\"Selection\"},{\"attributes\":{\"axis_label\":\"Qx\",\"formatter\":{\"id\":\"1828\",\"type\":\"BasicTickFormatter\"},\"plot\":{\"id\":\"1585\",\"subtype\":\"Figure\",\"type\":\"Plot\"},\"ticker\":{\"id\":\"1601\",\"type\":\"BasicTicker\"}},\"id\":\"1600\",\"type\":\"LinearAxis\"},{\"attributes\":{\"data_source\":{\"id\":\"1546\",\"type\":\"ColumnDataSource\"},\"glyph\":{\"id\":\"1654\",\"type\":\"Circle\"},\"hover_glyph\":null,\"muted_glyph\":null,\"nonselection_glyph\":{\"id\":\"1655\",\"type\":\"Circle\"},\"selection_glyph\":null,\"view\":{\"id\":\"1657\",\"type\":\"CDSView\"}},\"id\":\"1656\",\"type\":\"GlyphRenderer\"},{\"attributes\":{},\"id\":\"1705\",\"type\":\"UnionRenderers\"},{\"attributes\":{},\"id\":\"1601\",\"type\":\"BasicTicker\"},{\"attributes\":{\"source\":{\"id\":\"1546\",\"type\":\"ColumnDataSource\"}},\"id\":\"1657\",\"type\":\"CDSView\"},{\"attributes\":{\"dimension\":1,\"plot\":{\"id\":\"1585\",\"subtype\":\"Figure\",\"type\":\"Plot\"},\"ticker\":{\"id\":\"1601\",\"type\":\"BasicTicker\"}},\"id\":\"1604\",\"type\":\"Grid\"},{\"attributes\":{},\"id\":\"1832\",\"type\":\"BasicTickFormatter\"},{\"attributes\":{\"bottom_units\":\"screen\",\"fill_alpha\":{\"value\":0.5},\"fill_color\":{\"value\":\"lightgrey\"},\"left_units\":\"screen\",\"level\":\"overlay\",\"line_alpha\":{\"value\":1.0},\"line_color\":{\"value\":\"black\"},\"line_dash\":[4,4],\"line_width\":{\"value\":2},\"plot\":null,\"render_mode\":\"css\",\"right_units\":\"screen\",\"top_units\":\"screen\"},\"id\":\"1608\",\"type\":\"BoxAnnotation\"},{\"attributes\":{\"callback\":null,\"overlay\":{\"id\":\"1608\",\"type\":\"BoxAnnotation\"}},\"id\":\"1605\",\"type\":\"BoxSelectTool\"},{\"attributes\":{\"callback\":null,\"overlay\":{\"id\":\"1611\",\"type\":\"PolyAnnotation\"}},\"id\":\"1606\",\"type\":\"LassoSelectTool\"},{\"attributes\":{},\"id\":\"1607\",\"type\":\"HelpTool\"},{\"attributes\":{\"plot\":null,\"text\":\"PPF\"},\"id\":\"1547\",\"type\":\"Title\"},{\"attributes\":{},\"id\":\"1826\",\"type\":\"BasicTickFormatter\"},{\"attributes\":{\"fill_color\":{\"value\":\"#1f77b4\"},\"line_color\":{\"value\":\"#1f77b4\"},\"x\":{\"field\":\"Lx\"},\"y\":{\"field\":\"Qx\"}},\"id\":\"1617\",\"type\":\"Circle\"},{\"attributes\":{\"below\":[{\"id\":\"1558\",\"type\":\"LinearAxis\"}],\"left\":[{\"id\":\"1563\",\"type\":\"LinearAxis\"}],\"plot_height\":500,\"plot_width\":500,\"renderers\":[{\"id\":\"1558\",\"type\":\"LinearAxis\"},{\"id\":\"1562\",\"type\":\"Grid\"},{\"id\":\"1563\",\"type\":\"LinearAxis\"},{\"id\":\"1567\",\"type\":\"Grid\"},{\"id\":\"1571\",\"type\":\"BoxAnnotation\"},{\"id\":\"1574\",\"type\":\"PolyAnnotation\"},{\"id\":\"1582\",\"type\":\"GlyphRenderer\"}],\"title\":{\"id\":\"1547\",\"type\":\"Title\"},\"toolbar\":{\"id\":\"1573\",\"type\":\"Toolbar\"},\"x_range\":{\"id\":\"1550\",\"type\":\"DataRange1d\"},\"x_scale\":{\"id\":\"1554\",\"type\":\"LinearScale\"},\"y_range\":{\"id\":\"1552\",\"type\":\"DataRange1d\"},\"y_scale\":{\"id\":\"1556\",\"type\":\"LinearScale\"}},\"id\":\"1548\",\"subtype\":\"Figure\",\"type\":\"Plot\"},{\"attributes\":{},\"id\":\"1828\",\"type\":\"BasicTickFormatter\"},{\"attributes\":{\"active_drag\":\"auto\",\"active_inspect\":\"auto\",\"active_multi\":null,\"active_scroll\":\"auto\",\"active_tap\":\"auto\",\"tools\":[{\"id\":\"1605\",\"type\":\"BoxSelectTool\"},{\"id\":\"1606\",\"type\":\"LassoSelectTool\"},{\"id\":\"1607\",\"type\":\"HelpTool\"}]},\"id\":\"1610\",\"type\":\"Toolbar\"},{\"attributes\":{\"fill_alpha\":{\"value\":0.5},\"fill_color\":{\"value\":\"lightgrey\"},\"level\":\"overlay\",\"line_alpha\":{\"value\":1.0},\"line_color\":{\"value\":\"black\"},\"line_dash\":[4,4],\"line_width\":{\"value\":2},\"plot\":null,\"xs_units\":\"screen\",\"ys_units\":\"screen\"},\"id\":\"1611\",\"type\":\"PolyAnnotation\"},{\"attributes\":{\"fill_alpha\":{\"value\":0.1},\"fill_color\":{\"value\":\"#1f77b4\"},\"line_alpha\":{\"value\":0.1},\"line_color\":{\"value\":\"#1f77b4\"},\"x\":{\"field\":\"Lx\"},\"y\":{\"field\":\"Qx\"}},\"id\":\"1618\",\"type\":\"Circle\"},{\"attributes\":{},\"id\":\"1564\",\"type\":\"BasicTicker\"},{\"attributes\":{\"data_source\":{\"id\":\"1546\",\"type\":\"ColumnDataSource\"},\"glyph\":{\"id\":\"1617\",\"type\":\"Circle\"},\"hover_glyph\":null,\"muted_glyph\":null,\"nonselection_glyph\":{\"id\":\"1618\",\"type\":\"Circle\"},\"selection_glyph\":null,\"view\":{\"id\":\"1620\",\"type\":\"CDSView\"}},\"id\":\"1619\",\"type\":\"GlyphRenderer\"},{\"attributes\":{\"source\":{\"id\":\"1546\",\"type\":\"ColumnDataSource\"}},\"id\":\"1620\",\"type\":\"CDSView\"},{\"attributes\":{\"below\":[{\"id\":\"1632\",\"type\":\"LinearAxis\"}],\"left\":[{\"id\":\"1637\",\"type\":\"LinearAxis\"}],\"plot_height\":250,\"plot_width\":250,\"renderers\":[{\"id\":\"1632\",\"type\":\"LinearAxis\"},{\"id\":\"1636\",\"type\":\"Grid\"},{\"id\":\"1637\",\"type\":\"LinearAxis\"},{\"id\":\"1641\",\"type\":\"Grid\"},{\"id\":\"1645\",\"type\":\"BoxAnnotation\"},{\"id\":\"1648\",\"type\":\"PolyAnnotation\"},{\"id\":\"1656\",\"type\":\"GlyphRenderer\"}],\"title\":{\"id\":\"1621\",\"type\":\"Title\"},\"toolbar\":{\"id\":\"1647\",\"type\":\"Toolbar\"},\"x_range\":{\"id\":\"1624\",\"type\":\"DataRange1d\"},\"x_scale\":{\"id\":\"1628\",\"type\":\"LinearScale\"},\"y_range\":{\"id\":\"1626\",\"type\":\"DataRange1d\"},\"y_scale\":{\"id\":\"1630\",\"type\":\"LinearScale\"}},\"id\":\"1622\",\"subtype\":\"Figure\",\"type\":\"Plot\"},{\"attributes\":{\"fill_alpha\":{\"value\":0.1},\"fill_color\":{\"value\":\"#1f77b4\"},\"line_alpha\":{\"value\":0.1},\"line_color\":{\"value\":\"#1f77b4\"},\"x\":{\"field\":\"Ly\"},\"y\":{\"field\":\"Qy\"}},\"id\":\"1655\",\"type\":\"Circle\"},{\"attributes\":{},\"id\":\"1593\",\"type\":\"LinearScale\"},{\"attributes\":{\"plot\":null,\"text\":\"Production of Y\"},\"id\":\"1621\",\"type\":\"Title\"},{\"attributes\":{\"callback\":null},\"id\":\"1587\",\"type\":\"DataRange1d\"},{\"attributes\":{\"callback\":null},\"id\":\"1624\",\"type\":\"DataRange1d\"},{\"attributes\":{\"children\":[{\"id\":\"1585\",\"subtype\":\"Figure\",\"type\":\"Plot\"},{\"id\":\"1622\",\"subtype\":\"Figure\",\"type\":\"Plot\"}]},\"id\":\"1762\",\"type\":\"Row\"},{\"attributes\":{\"callback\":null},\"id\":\"1626\",\"type\":\"DataRange1d\"},{\"attributes\":{},\"id\":\"1628\",\"type\":\"LinearScale\"},{\"attributes\":{\"callback\":null},\"id\":\"1550\",\"type\":\"DataRange1d\"},{\"attributes\":{\"axis_label\":\"Qx\",\"formatter\":{\"id\":\"1701\",\"type\":\"BasicTickFormatter\"},\"plot\":{\"id\":\"1548\",\"subtype\":\"Figure\",\"type\":\"Plot\"},\"ticker\":{\"id\":\"1559\",\"type\":\"BasicTicker\"}},\"id\":\"1558\",\"type\":\"LinearAxis\"},{\"attributes\":{},\"id\":\"1630\",\"type\":\"LinearScale\"},{\"attributes\":{},\"id\":\"1556\",\"type\":\"LinearScale\"},{\"attributes\":{\"data_source\":{\"id\":\"1546\",\"type\":\"ColumnDataSource\"},\"glyph\":{\"id\":\"1580\",\"type\":\"Circle\"},\"hover_glyph\":null,\"muted_glyph\":null,\"nonselection_glyph\":{\"id\":\"1581\",\"type\":\"Circle\"},\"selection_glyph\":null,\"view\":{\"id\":\"1583\",\"type\":\"CDSView\"}},\"id\":\"1582\",\"type\":\"GlyphRenderer\"},{\"attributes\":{\"axis_label\":\"L to Y\",\"formatter\":{\"id\":\"1830\",\"type\":\"BasicTickFormatter\"},\"plot\":{\"id\":\"1622\",\"subtype\":\"Figure\",\"type\":\"Plot\"},\"ticker\":{\"id\":\"1633\",\"type\":\"BasicTicker\"}},\"id\":\"1632\",\"type\":\"LinearAxis\"},{\"attributes\":{\"callback\":null},\"id\":\"1589\",\"type\":\"DataRange1d\"},{\"attributes\":{},\"id\":\"1830\",\"type\":\"BasicTickFormatter\"},{\"attributes\":{},\"id\":\"1554\",\"type\":\"LinearScale\"},{\"attributes\":{\"plot\":null,\"text\":\"Production of X\"},\"id\":\"1584\",\"type\":\"Title\"},{\"attributes\":{},\"id\":\"1633\",\"type\":\"BasicTicker\"},{\"attributes\":{\"callback\":null},\"id\":\"1552\",\"type\":\"DataRange1d\"},{\"attributes\":{\"plot\":{\"id\":\"1622\",\"subtype\":\"Figure\",\"type\":\"Plot\"},\"ticker\":{\"id\":\"1633\",\"type\":\"BasicTicker\"}},\"id\":\"1636\",\"type\":\"Grid\"},{\"attributes\":{\"axis_label\":\"Qy\",\"formatter\":{\"id\":\"1832\",\"type\":\"BasicTickFormatter\"},\"plot\":{\"id\":\"1622\",\"subtype\":\"Figure\",\"type\":\"Plot\"},\"ticker\":{\"id\":\"1638\",\"type\":\"BasicTicker\"}},\"id\":\"1637\",\"type\":\"LinearAxis\"},{\"attributes\":{\"active_drag\":\"auto\",\"active_inspect\":\"auto\",\"active_multi\":null,\"active_scroll\":\"auto\",\"active_tap\":\"auto\",\"tools\":[{\"id\":\"1568\",\"type\":\"BoxSelectTool\"},{\"id\":\"1569\",\"type\":\"LassoSelectTool\"},{\"id\":\"1570\",\"type\":\"HelpTool\"}]},\"id\":\"1573\",\"type\":\"Toolbar\"},{\"attributes\":{\"axis_label\":\"QY\",\"formatter\":{\"id\":\"1703\",\"type\":\"BasicTickFormatter\"},\"plot\":{\"id\":\"1548\",\"subtype\":\"Figure\",\"type\":\"Plot\"},\"ticker\":{\"id\":\"1564\",\"type\":\"BasicTicker\"}},\"id\":\"1563\",\"type\":\"LinearAxis\"},{\"attributes\":{},\"id\":\"1638\",\"type\":\"BasicTicker\"},{\"attributes\":{\"plot\":{\"id\":\"1548\",\"subtype\":\"Figure\",\"type\":\"Plot\"},\"ticker\":{\"id\":\"1559\",\"type\":\"BasicTicker\"}},\"id\":\"1562\",\"type\":\"Grid\"},{\"attributes\":{\"fill_alpha\":{\"value\":0.1},\"fill_color\":{\"value\":\"#1f77b4\"},\"line_alpha\":{\"value\":0.1},\"line_color\":{\"value\":\"#1f77b4\"},\"x\":{\"field\":\"Qx\"},\"y\":{\"field\":\"Qy\"}},\"id\":\"1581\",\"type\":\"Circle\"},{\"attributes\":{\"dimension\":1,\"plot\":{\"id\":\"1622\",\"subtype\":\"Figure\",\"type\":\"Plot\"},\"ticker\":{\"id\":\"1638\",\"type\":\"BasicTicker\"}},\"id\":\"1641\",\"type\":\"Grid\"},{\"attributes\":{},\"id\":\"1559\",\"type\":\"BasicTicker\"},{\"attributes\":{\"bottom_units\":\"screen\",\"fill_alpha\":{\"value\":0.5},\"fill_color\":{\"value\":\"lightgrey\"},\"left_units\":\"screen\",\"level\":\"overlay\",\"line_alpha\":{\"value\":1.0},\"line_color\":{\"value\":\"black\"},\"line_dash\":[4,4],\"line_width\":{\"value\":2},\"plot\":null,\"render_mode\":\"css\",\"right_units\":\"screen\",\"top_units\":\"screen\"},\"id\":\"1645\",\"type\":\"BoxAnnotation\"},{\"attributes\":{\"below\":[{\"id\":\"1595\",\"type\":\"LinearAxis\"}],\"left\":[{\"id\":\"1600\",\"type\":\"LinearAxis\"}],\"plot_height\":250,\"plot_width\":250,\"renderers\":[{\"id\":\"1595\",\"type\":\"LinearAxis\"},{\"id\":\"1599\",\"type\":\"Grid\"},{\"id\":\"1600\",\"type\":\"LinearAxis\"},{\"id\":\"1604\",\"type\":\"Grid\"},{\"id\":\"1608\",\"type\":\"BoxAnnotation\"},{\"id\":\"1611\",\"type\":\"PolyAnnotation\"},{\"id\":\"1619\",\"type\":\"GlyphRenderer\"}],\"title\":{\"id\":\"1584\",\"type\":\"Title\"},\"toolbar\":{\"id\":\"1610\",\"type\":\"Toolbar\"},\"x_range\":{\"id\":\"1587\",\"type\":\"DataRange1d\"},\"x_scale\":{\"id\":\"1591\",\"type\":\"LinearScale\"},\"y_range\":{\"id\":\"1589\",\"type\":\"DataRange1d\"},\"y_scale\":{\"id\":\"1593\",\"type\":\"LinearScale\"}},\"id\":\"1585\",\"subtype\":\"Figure\",\"type\":\"Plot\"},{\"attributes\":{\"dimension\":1,\"plot\":{\"id\":\"1548\",\"subtype\":\"Figure\",\"type\":\"Plot\"},\"ticker\":{\"id\":\"1564\",\"type\":\"BasicTicker\"}},\"id\":\"1567\",\"type\":\"Grid\"},{\"attributes\":{},\"id\":\"1591\",\"type\":\"LinearScale\"},{\"attributes\":{\"callback\":null,\"overlay\":{\"id\":\"1645\",\"type\":\"BoxAnnotation\"}},\"id\":\"1642\",\"type\":\"BoxSelectTool\"},{\"attributes\":{\"source\":{\"id\":\"1546\",\"type\":\"ColumnDataSource\"}},\"id\":\"1583\",\"type\":\"CDSView\"},{\"attributes\":{\"callback\":null,\"overlay\":{\"id\":\"1648\",\"type\":\"PolyAnnotation\"}},\"id\":\"1643\",\"type\":\"LassoSelectTool\"},{\"attributes\":{\"bottom_units\":\"screen\",\"fill_alpha\":{\"value\":0.5},\"fill_color\":{\"value\":\"lightgrey\"},\"left_units\":\"screen\",\"level\":\"overlay\",\"line_alpha\":{\"value\":1.0},\"line_color\":{\"value\":\"black\"},\"line_dash\":[4,4],\"line_width\":{\"value\":2},\"plot\":null,\"render_mode\":\"css\",\"right_units\":\"screen\",\"top_units\":\"screen\"},\"id\":\"1571\",\"type\":\"BoxAnnotation\"},{\"attributes\":{\"callback\":null,\"overlay\":{\"id\":\"1571\",\"type\":\"BoxAnnotation\"}},\"id\":\"1568\",\"type\":\"BoxSelectTool\"},{\"attributes\":{},\"id\":\"1644\",\"type\":\"HelpTool\"},{\"attributes\":{\"fill_color\":{\"value\":\"#1f77b4\"},\"line_color\":{\"value\":\"#1f77b4\"},\"x\":{\"field\":\"Qx\"},\"y\":{\"field\":\"Qy\"}},\"id\":\"1580\",\"type\":\"Circle\"},{\"attributes\":{\"fill_color\":{\"value\":\"#1f77b4\"},\"line_color\":{\"value\":\"#1f77b4\"},\"x\":{\"field\":\"Ly\"},\"y\":{\"field\":\"Qy\"}},\"id\":\"1654\",\"type\":\"Circle\"},{\"attributes\":{},\"id\":\"1570\",\"type\":\"HelpTool\"},{\"attributes\":{\"active_drag\":\"auto\",\"active_inspect\":\"auto\",\"active_multi\":null,\"active_scroll\":\"auto\",\"active_tap\":\"auto\",\"tools\":[{\"id\":\"1642\",\"type\":\"BoxSelectTool\"},{\"id\":\"1643\",\"type\":\"LassoSelectTool\"},{\"id\":\"1644\",\"type\":\"HelpTool\"}]},\"id\":\"1647\",\"type\":\"Toolbar\"},{\"attributes\":{\"callback\":null,\"overlay\":{\"id\":\"1574\",\"type\":\"PolyAnnotation\"}},\"id\":\"1569\",\"type\":\"LassoSelectTool\"},{\"attributes\":{\"fill_alpha\":{\"value\":0.5},\"fill_color\":{\"value\":\"lightgrey\"},\"level\":\"overlay\",\"line_alpha\":{\"value\":1.0},\"line_color\":{\"value\":\"black\"},\"line_dash\":[4,4],\"line_width\":{\"value\":2},\"plot\":null,\"xs_units\":\"screen\",\"ys_units\":\"screen\"},\"id\":\"1648\",\"type\":\"PolyAnnotation\"}],\"root_ids\":[\"1763\"]},\"title\":\"Bokeh Application\",\"version\":\"1.0.2\"}};\n",
       "  var render_items = [{\"docid\":\"6b97d818-ee51-4212-b714-fa2d82295c00\",\"roots\":{\"1763\":\"c0611fc0-cd33-4e23-b64c-6b2f02761554\"}}];\n",
       "  root.Bokeh.embed.embed_items_notebook(docs_json, render_items);\n",
       "\n",
       "  }\n",
       "  if (root.Bokeh !== undefined) {\n",
       "    embed_document(root);\n",
       "  } else {\n",
       "    var attempts = 0;\n",
       "    var timer = setInterval(function(root) {\n",
       "      if (root.Bokeh !== undefined) {\n",
       "        embed_document(root);\n",
       "        clearInterval(timer);\n",
       "      }\n",
       "      attempts++;\n",
       "      if (attempts > 100) {\n",
       "        console.log(\"Bokeh: ERROR: Unable to run BokehJS code because BokehJS library is missing\");\n",
       "        clearInterval(timer);\n",
       "      }\n",
       "    }, 10, root)\n",
       "  }\n",
       "})(window);"
      ],
      "application/vnd.bokehjs_exec.v0+json": ""
     },
     "metadata": {
      "application/vnd.bokehjs_exec.v0+json": {
       "id": "1763"
      }
     },
     "output_type": "display_data"
    }
   ],
   "source": [
    "XYppf.fullplot()"
   ]
  },
  {
   "cell_type": "code",
   "execution_count": 2,
   "metadata": {},
   "outputs": [
    {
     "ename": "ValueError",
     "evalue": "cannot find widget or abbreviation for argument: 'x'",
     "output_type": "error",
     "traceback": [
      "\u001b[0;31m---------------------------------------------------------------------------\u001b[0m",
      "\u001b[0;31mValueError\u001b[0m                                Traceback (most recent call last)",
      "\u001b[0;32m<ipython-input-2-6dcc737d4b69>\u001b[0m in \u001b[0;36m<module>\u001b[0;34m\u001b[0m\n\u001b[0;32m----> 1\u001b[0;31m \u001b[0;34m@\u001b[0m\u001b[0minteract\u001b[0m\u001b[0;34m\u001b[0m\u001b[0;34m\u001b[0m\u001b[0m\n\u001b[0m\u001b[1;32m      2\u001b[0m \u001b[0;32mdef\u001b[0m \u001b[0mchange_labor\u001b[0m\u001b[0;34m(\u001b[0m\u001b[0mx\u001b[0m\u001b[0;34m)\u001b[0m\u001b[0;34m:\u001b[0m\u001b[0;34m\u001b[0m\u001b[0;34m\u001b[0m\u001b[0m\n\u001b[1;32m      3\u001b[0m     \u001b[0mXYppf\u001b[0m\u001b[0;34m=\u001b[0m\u001b[0mppf\u001b[0m\u001b[0;34m.\u001b[0m\u001b[0mppf\u001b[0m\u001b[0;34m(\u001b[0m\u001b[0mfactories\u001b[0m\u001b[0;34m.\u001b[0m\u001b[0mfactory\u001b[0m\u001b[0;34m(\u001b[0m\u001b[0;36m.5\u001b[0m\u001b[0;34m,\u001b[0m\u001b[0;36m1\u001b[0m\u001b[0;34m)\u001b[0m\u001b[0;34m,\u001b[0m\u001b[0mfactories\u001b[0m\u001b[0;34m.\u001b[0m\u001b[0mfactory\u001b[0m\u001b[0;34m(\u001b[0m\u001b[0;36m.5\u001b[0m\u001b[0;34m,\u001b[0m\u001b[0;36m2\u001b[0m\u001b[0;34m)\u001b[0m\u001b[0;34m,\u001b[0m \u001b[0mx\u001b[0m\u001b[0;34m,\u001b[0m \u001b[0mbetween_steps\u001b[0m\u001b[0;34m)\u001b[0m\u001b[0;34m\u001b[0m\u001b[0;34m\u001b[0m\u001b[0m\n",
      "\u001b[0;32m~/anaconda3/lib/python3.7/site-packages/ipywidgets/widgets/interaction.py\u001b[0m in \u001b[0;36m__call__\u001b[0;34m(self, _InteractFactory__interact_f, **kwargs)\u001b[0m\n\u001b[1;32m    521\u001b[0m         \u001b[0;31m#    def f(*args, **kwargs):\u001b[0m\u001b[0;34m\u001b[0m\u001b[0;34m\u001b[0m\u001b[0;34m\u001b[0m\u001b[0m\n\u001b[1;32m    522\u001b[0m         \u001b[0;31m#        ...\u001b[0m\u001b[0;34m\u001b[0m\u001b[0;34m\u001b[0m\u001b[0;34m\u001b[0m\u001b[0m\n\u001b[0;32m--> 523\u001b[0;31m         \u001b[0mw\u001b[0m \u001b[0;34m=\u001b[0m \u001b[0mself\u001b[0m\u001b[0;34m.\u001b[0m\u001b[0mwidget\u001b[0m\u001b[0;34m(\u001b[0m\u001b[0mf\u001b[0m\u001b[0;34m)\u001b[0m\u001b[0;34m\u001b[0m\u001b[0;34m\u001b[0m\u001b[0m\n\u001b[0m\u001b[1;32m    524\u001b[0m         \u001b[0;32mtry\u001b[0m\u001b[0;34m:\u001b[0m\u001b[0;34m\u001b[0m\u001b[0;34m\u001b[0m\u001b[0m\n\u001b[1;32m    525\u001b[0m             \u001b[0mf\u001b[0m\u001b[0;34m.\u001b[0m\u001b[0mwidget\u001b[0m \u001b[0;34m=\u001b[0m \u001b[0mw\u001b[0m\u001b[0;34m\u001b[0m\u001b[0;34m\u001b[0m\u001b[0m\n",
      "\u001b[0;32m~/anaconda3/lib/python3.7/site-packages/ipywidgets/widgets/interaction.py\u001b[0m in \u001b[0;36mwidget\u001b[0;34m(self, f)\u001b[0m\n\u001b[1;32m    437\u001b[0m             \u001b[0mThe\u001b[0m \u001b[0mfunction\u001b[0m \u001b[0mto\u001b[0m \u001b[0mwhich\u001b[0m \u001b[0mthe\u001b[0m \u001b[0minteractive\u001b[0m \u001b[0mwidgets\u001b[0m \u001b[0mare\u001b[0m \u001b[0mtied\u001b[0m\u001b[0;34m.\u001b[0m\u001b[0;34m\u001b[0m\u001b[0;34m\u001b[0m\u001b[0m\n\u001b[1;32m    438\u001b[0m         \"\"\"\n\u001b[0;32m--> 439\u001b[0;31m         \u001b[0;32mreturn\u001b[0m \u001b[0mself\u001b[0m\u001b[0;34m.\u001b[0m\u001b[0mcls\u001b[0m\u001b[0;34m(\u001b[0m\u001b[0mf\u001b[0m\u001b[0;34m,\u001b[0m \u001b[0mself\u001b[0m\u001b[0;34m.\u001b[0m\u001b[0mopts\u001b[0m\u001b[0;34m,\u001b[0m \u001b[0;34m**\u001b[0m\u001b[0mself\u001b[0m\u001b[0;34m.\u001b[0m\u001b[0mkwargs\u001b[0m\u001b[0;34m)\u001b[0m\u001b[0;34m\u001b[0m\u001b[0;34m\u001b[0m\u001b[0m\n\u001b[0m\u001b[1;32m    440\u001b[0m \u001b[0;34m\u001b[0m\u001b[0m\n\u001b[1;32m    441\u001b[0m     \u001b[0;32mdef\u001b[0m \u001b[0m__call__\u001b[0m\u001b[0;34m(\u001b[0m\u001b[0mself\u001b[0m\u001b[0;34m,\u001b[0m \u001b[0m__interact_f\u001b[0m\u001b[0;34m=\u001b[0m\u001b[0;32mNone\u001b[0m\u001b[0;34m,\u001b[0m \u001b[0;34m**\u001b[0m\u001b[0mkwargs\u001b[0m\u001b[0;34m)\u001b[0m\u001b[0;34m:\u001b[0m\u001b[0;34m\u001b[0m\u001b[0;34m\u001b[0m\u001b[0m\n",
      "\u001b[0;32m~/anaconda3/lib/python3.7/site-packages/ipywidgets/widgets/interaction.py\u001b[0m in \u001b[0;36m__init__\u001b[0;34m(self, _interactive__interact_f, _interactive__options, **kwargs)\u001b[0m\n\u001b[1;32m    181\u001b[0m         \u001b[0mself\u001b[0m\u001b[0;34m.\u001b[0m\u001b[0mauto_display\u001b[0m \u001b[0;34m=\u001b[0m \u001b[0m__options\u001b[0m\u001b[0;34m.\u001b[0m\u001b[0mget\u001b[0m\u001b[0;34m(\u001b[0m\u001b[0;34m\"auto_display\"\u001b[0m\u001b[0;34m,\u001b[0m \u001b[0;32mFalse\u001b[0m\u001b[0;34m)\u001b[0m\u001b[0;34m\u001b[0m\u001b[0;34m\u001b[0m\u001b[0m\n\u001b[1;32m    182\u001b[0m \u001b[0;34m\u001b[0m\u001b[0m\n\u001b[0;32m--> 183\u001b[0;31m         \u001b[0mnew_kwargs\u001b[0m \u001b[0;34m=\u001b[0m \u001b[0mself\u001b[0m\u001b[0;34m.\u001b[0m\u001b[0mfind_abbreviations\u001b[0m\u001b[0;34m(\u001b[0m\u001b[0mkwargs\u001b[0m\u001b[0;34m)\u001b[0m\u001b[0;34m\u001b[0m\u001b[0;34m\u001b[0m\u001b[0m\n\u001b[0m\u001b[1;32m    184\u001b[0m         \u001b[0;31m# Before we proceed, let's make sure that the user has passed a set of args+kwargs\u001b[0m\u001b[0;34m\u001b[0m\u001b[0;34m\u001b[0m\u001b[0;34m\u001b[0m\u001b[0m\n\u001b[1;32m    185\u001b[0m         \u001b[0;31m# that will lead to a valid call of the function. This protects against unspecified\u001b[0m\u001b[0;34m\u001b[0m\u001b[0;34m\u001b[0m\u001b[0;34m\u001b[0m\u001b[0m\n",
      "\u001b[0;32m~/anaconda3/lib/python3.7/site-packages/ipywidgets/widgets/interaction.py\u001b[0m in \u001b[0;36mfind_abbreviations\u001b[0;34m(self, kwargs)\u001b[0m\n\u001b[1;32m    281\u001b[0m             \u001b[0;32mfor\u001b[0m \u001b[0mname\u001b[0m\u001b[0;34m,\u001b[0m \u001b[0mvalue\u001b[0m\u001b[0;34m,\u001b[0m \u001b[0mdefault\u001b[0m \u001b[0;32min\u001b[0m \u001b[0m_yield_abbreviations_for_parameter\u001b[0m\u001b[0;34m(\u001b[0m\u001b[0mparam\u001b[0m\u001b[0;34m,\u001b[0m \u001b[0mkwargs\u001b[0m\u001b[0;34m)\u001b[0m\u001b[0;34m:\u001b[0m\u001b[0;34m\u001b[0m\u001b[0;34m\u001b[0m\u001b[0m\n\u001b[1;32m    282\u001b[0m                 \u001b[0;32mif\u001b[0m \u001b[0mvalue\u001b[0m \u001b[0;32mis\u001b[0m \u001b[0mempty\u001b[0m\u001b[0;34m:\u001b[0m\u001b[0;34m\u001b[0m\u001b[0;34m\u001b[0m\u001b[0m\n\u001b[0;32m--> 283\u001b[0;31m                     \u001b[0;32mraise\u001b[0m \u001b[0mValueError\u001b[0m\u001b[0;34m(\u001b[0m\u001b[0;34m'cannot find widget or abbreviation for argument: {!r}'\u001b[0m\u001b[0;34m.\u001b[0m\u001b[0mformat\u001b[0m\u001b[0;34m(\u001b[0m\u001b[0mname\u001b[0m\u001b[0;34m)\u001b[0m\u001b[0;34m)\u001b[0m\u001b[0;34m\u001b[0m\u001b[0;34m\u001b[0m\u001b[0m\n\u001b[0m\u001b[1;32m    284\u001b[0m                 \u001b[0mnew_kwargs\u001b[0m\u001b[0;34m.\u001b[0m\u001b[0mappend\u001b[0m\u001b[0;34m(\u001b[0m\u001b[0;34m(\u001b[0m\u001b[0mname\u001b[0m\u001b[0;34m,\u001b[0m \u001b[0mvalue\u001b[0m\u001b[0;34m,\u001b[0m \u001b[0mdefault\u001b[0m\u001b[0;34m)\u001b[0m\u001b[0;34m)\u001b[0m\u001b[0;34m\u001b[0m\u001b[0;34m\u001b[0m\u001b[0m\n\u001b[1;32m    285\u001b[0m         \u001b[0;32mreturn\u001b[0m \u001b[0mnew_kwargs\u001b[0m\u001b[0;34m\u001b[0m\u001b[0;34m\u001b[0m\u001b[0m\n",
      "\u001b[0;31mValueError\u001b[0m: cannot find widget or abbreviation for argument: 'x'"
     ]
    }
   ],
   "source": [
    "@interact\n",
    "def change_labor(x):\n",
    "    XYppf=ppf.ppf(factories.factory(.5,1),factories.factory(.5,2), x, between_steps)"
   ]
  }
 ],
 "metadata": {
  "kernelspec": {
   "display_name": "Python 3",
   "language": "python",
   "name": "python3"
  },
  "language_info": {
   "codemirror_mode": {
    "name": "ipython",
    "version": 3
   },
   "file_extension": ".py",
   "mimetype": "text/x-python",
   "name": "python",
   "nbconvert_exporter": "python",
   "pygments_lexer": "ipython3",
   "version": "3.7.1"
  },
  "varInspector": {
   "cols": {
    "lenName": 16,
    "lenType": 16,
    "lenVar": 40
   },
   "kernels_config": {
    "python": {
     "delete_cmd_postfix": "",
     "delete_cmd_prefix": "del ",
     "library": "var_list.py",
     "varRefreshCmd": "print(var_dic_list())"
    },
    "r": {
     "delete_cmd_postfix": ") ",
     "delete_cmd_prefix": "rm(",
     "library": "var_list.r",
     "varRefreshCmd": "cat(var_dic_list()) "
    }
   },
   "oldHeight": 122.84966599999998,
   "position": {
    "height": "40px",
    "left": "941.333px",
    "right": "-32.75px",
    "top": "121px",
    "width": "350px"
   },
   "types_to_exclude": [
    "module",
    "function",
    "builtin_function_or_method",
    "instance",
    "_Feature"
   ],
   "varInspector_section_display": "none",
   "window_display": true
  }
 },
 "nbformat": 4,
 "nbformat_minor": 2
}
