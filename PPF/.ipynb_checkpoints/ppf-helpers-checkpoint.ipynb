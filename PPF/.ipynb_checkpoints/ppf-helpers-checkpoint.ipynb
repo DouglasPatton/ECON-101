{
 "cells": [
  {
   "cell_type": "code",
   "execution_count": null,
   "metadata": {},
   "outputs": [],
   "source": [
    "# %load factories.py\n",
    "import numpy as np\n",
    "\n",
    "class factory1:\n",
    "    '''makes a factory object and computes inputs and outputs'''\n",
    "    \n",
    "    def __init__(self, exponent=1, constant=1, max_input=5, steps=5):\n",
    "        self.exponent = exponent\n",
    "        self.constant=constant\n",
    "        self.max_input=max_input\n",
    "        self.input=np.linspace(0,max_input,steps)\n",
    "        self.output=constant*(self.input**exponent) \n",
    "        \n",
    "        \n",
    "        \n"
   ]
  },
  {
   "cell_type": "code",
   "execution_count": 35,
   "metadata": {},
   "outputs": [
    {
     "name": "stdout",
     "output_type": "stream",
     "text": [
      "Overwriting factories.py\n"
     ]
    }
   ],
   "source": [
    "%%writefile factories.py\n",
    "import numpy as np\n",
    "\n",
    "class factory1:\n",
    "    '''makes a factory object and computes inputs and outputs'''\n",
    "    \n",
    "    def __init__(self, exponent=1, constant=1, max_input=5, steps=5):\n",
    "        self.exponent = exponent\n",
    "        self.constant=constant\n",
    "        self.max_input=max_input\n",
    "        self.input=np.linspace(0,max_input,steps)\n",
    "        self.output=constant*(self.input**exponent) \n",
    "        \n",
    "        \n",
    "        "
   ]
  },
  {
   "cell_type": "code",
   "execution_count": 38,
   "metadata": {},
   "outputs": [
    {
     "name": "stdout",
     "output_type": "stream",
     "text": [
      "Overwriting PlotPPF.py\n"
     ]
    }
   ],
   "source": [
    "%%writefile PlotPPF.py\n",
    "import numpy as np\n",
    "from bokeh.io import push_notebook, show, output_notebook; \n",
    "from bokeh.plotting import figure; \n",
    "from bokeh.layouts import column\n",
    "output_notebook()\n",
    "\n",
    "def ppfdotplot(x,y):\n",
    "    p.figure()\n",
    "    p.circle(x,y)\n",
    "    p.show()"
   ]
  }
 ],
 "metadata": {
  "kernelspec": {
   "display_name": "Python 3",
   "language": "python",
   "name": "python3"
  },
  "language_info": {
   "codemirror_mode": {
    "name": "ipython",
    "version": 3
   },
   "file_extension": ".py",
   "mimetype": "text/x-python",
   "name": "python",
   "nbconvert_exporter": "python",
   "pygments_lexer": "ipython3",
   "version": "3.7.1"
  },
  "varInspector": {
   "cols": {
    "lenName": 16,
    "lenType": 16,
    "lenVar": 40
   },
   "kernels_config": {
    "python": {
     "delete_cmd_postfix": "",
     "delete_cmd_prefix": "del ",
     "library": "var_list.py",
     "varRefreshCmd": "print(var_dic_list())"
    },
    "r": {
     "delete_cmd_postfix": ") ",
     "delete_cmd_prefix": "rm(",
     "library": "var_list.r",
     "varRefreshCmd": "cat(var_dic_list()) "
    }
   },
   "types_to_exclude": [
    "module",
    "function",
    "builtin_function_or_method",
    "instance",
    "_Feature"
   ],
   "window_display": true
  }
 },
 "nbformat": 4,
 "nbformat_minor": 2
}
