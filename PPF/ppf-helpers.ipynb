{
 "cells": [
  {
   "cell_type": "code",
   "execution_count": null,
   "metadata": {},
   "outputs": [],
   "source": [
    "#this file writes the helper functions to their own files"
   ]
  },
  {
   "cell_type": "code",
   "execution_count": 18,
   "metadata": {},
   "outputs": [
    {
     "name": "stdout",
     "output_type": "stream",
     "text": [
      "Overwriting factories.py\n"
     ]
    }
   ],
   "source": [
    "%%writefile factories.py\n",
    "import numpy as np\n",
    "\n",
    "class factory(object):\n",
    "    '''makes a factory object and produce(input) computes inputs and outputs'''\n",
    "    \n",
    "    def __init__(self, exponent=1, constant=1):\n",
    "        self.exponent = exponent\n",
    "        self.constant=constant\n",
    "        self.inputs=0\n",
    "        self.outputs=0\n",
    "        \n",
    "    def produce(self, factor_input):\n",
    "        self.inputs=factor_input\n",
    "        self.outputs=np.array(self.constant*(self.inputs**self.exponent))"
   ]
  },
  {
   "cell_type": "code",
   "execution_count": 61,
   "metadata": {},
   "outputs": [
    {
     "name": "stdout",
     "output_type": "stream",
     "text": [
      "Overwriting ppf.py\n"
     ]
    }
   ],
   "source": [
    "%%writefile ppf.py\n",
    "import numpy as np\n",
    "from bokeh.io import push_notebook, show, output_notebook; \n",
    "from bokeh.plotting import figure; \n",
    "from bokeh.layouts import layout\n",
    "from bokeh.models import ColumnDataSource\n",
    "output_notebook()\n",
    "\n",
    "class ppf(object):\n",
    "    '''takes 2 factories, a shared resource/input, and steps between integer\n",
    "    value of resource and computes all production possibilities\n",
    "    ''' \n",
    "    \n",
    "    def __init__(self,factoryX,factoryY,resource,step=10):\n",
    "        self.Lx=np.linspace(0,resource,resource*step+1)\n",
    "        self.Ly=resource-self.Lx\n",
    "        factoryX.produce(self.Lx)\n",
    "        factoryY.produce(self.Ly)\n",
    "        self.Qx=factoryX.outputs\n",
    "        self.Qy=factoryY.outputs\n",
    "        \n",
    "        source = ColumnDataSource(data=dict(Lx=self.Lx, Ly=self.Ly, Qx=self.Qx, Qy=self.Qy))#setup data for bokeh brushing\n",
    "        TOOLS = \"box_select,lasso_select,help\"\n",
    "        self.ppf=figure(tools=TOOLS, title='PPF', plot_width=500, plot_height=500)\n",
    "        self.ppf.xaxis.axis_label = 'Qx'\n",
    "        self.ppf.yaxis.axis_label = 'QY'\n",
    "        self.ppf.circle('Qx','Qy', source=source)\n",
    "        \n",
    "        self.Fx=figure(tools=TOOLS, title='Production of X', plot_width=250, plot_height=250)\n",
    "        self.Fx.xaxis.axis_label = 'L to X'\n",
    "        self.Fx.yaxis.axis_label = 'Qx'\n",
    "        self.Fx.circle('Lx','Qx', source=source)\n",
    "        \n",
    "        self.Fy=figure(tools=TOOLS, title='Production of Y', plot_width=250, plot_height=250)\n",
    "        self.Fy.xaxis.axis_label = 'L to Y'\n",
    "        self.Fy.yaxis.axis_label = 'Qy'\n",
    "        self.Fy.circle('Ly','Qy', source=source)\n",
    "        \n",
    "\n",
    "        \n",
    "    def ppfplot(self): #plots the ppf\n",
    "        show(self.ppf)\n",
    "        \n",
    "    def fullplot(self):\n",
    "        self.l=layout(children=[self.ppf,[self.Fx,self.Fy]],\n",
    "        sizing_mode='fixed')\n",
    "        show(self.l)\n",
    "        "
   ]
  },
  {
   "cell_type": "code",
   "execution_count": null,
   "metadata": {},
   "outputs": [],
   "source": []
  }
 ],
 "metadata": {
  "kernelspec": {
   "display_name": "Python 3",
   "language": "python",
   "name": "python3"
  },
  "language_info": {
   "codemirror_mode": {
    "name": "ipython",
    "version": 3
   },
   "file_extension": ".py",
   "mimetype": "text/x-python",
   "name": "python",
   "nbconvert_exporter": "python",
   "pygments_lexer": "ipython3",
   "version": "3.7.1"
  },
  "varInspector": {
   "cols": {
    "lenName": 16,
    "lenType": 16,
    "lenVar": 40
   },
   "kernels_config": {
    "python": {
     "delete_cmd_postfix": "",
     "delete_cmd_prefix": "del ",
     "library": "var_list.py",
     "varRefreshCmd": "print(var_dic_list())"
    },
    "r": {
     "delete_cmd_postfix": ") ",
     "delete_cmd_prefix": "rm(",
     "library": "var_list.r",
     "varRefreshCmd": "cat(var_dic_list()) "
    }
   },
   "types_to_exclude": [
    "module",
    "function",
    "builtin_function_or_method",
    "instance",
    "_Feature"
   ],
   "window_display": true
  }
 },
 "nbformat": 4,
 "nbformat_minor": 2
}
